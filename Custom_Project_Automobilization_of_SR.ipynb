{
 "cells": [
  {
   "cell_type": "markdown",
   "id": "06245139-b3d4-4cba-925d-2b23f1249f80",
   "metadata": {},
   "source": [
    "# **Automobilization of Slovakia**"
   ]
  },
  {
   "cell_type": "code",
   "execution_count": null,
   "id": "5fc31b8f-40ff-40aa-9a42-0e6c53705ee9",
   "metadata": {},
   "outputs": [],
   "source": [
    "import pandas as pd"
   ]
  },
  {
   "cell_type": "markdown",
   "id": "6a8c814b-6792-4829-b024-dc0f7668d111",
   "metadata": {},
   "source": [
    "## **[01] Number of Registered Vehicles in Slovakia (2003-2024)**"
   ]
  },
  {
   "cell_type": "code",
   "execution_count": null,
   "id": "9d361508-3a98-4fd6-8f67-94779db625e8",
   "metadata": {},
   "outputs": [],
   "source": [
    "df_registered_vehicles_original = pd.read_excel(\"Data Files/Vehicles Register 2003-2024.xlsx\")\n",
    "df_registered_vehicles_original\n",
    "\n",
    "# Source: https://www.minv.sk/?celkovy-pocet-evidovanych-vozidiel-v-sr\n",
    "# The file contains total numbers of registered vehicles in Slovakia from 2003 to 2024.\n",
    "# The dataset includes registered vehicles as of december of the corresponding year."
   ]
  },
  {
   "cell_type": "markdown",
   "id": "b2f6ee2b-02ab-455b-bf8e-82791d483ed5",
   "metadata": {},
   "source": [
    "### **[01.1] Substituting District Names**"
   ]
  },
  {
   "cell_type": "code",
   "execution_count": null,
   "id": "ce95e3cb-703b-421b-802c-e1e8bc83ac1c",
   "metadata": {
    "scrolled": true
   },
   "outputs": [],
   "source": [
    "dict_districts_abbrevations = {\n",
    "    \"ODIBA\": \"Bratislava\",\n",
    "    \"ODIBB\": \"Banská Bystrica\",\n",
    "    \"ODIBJ\": \"Bardejov\",\n",
    "    \"ODIBN\": \"Bánovce nad Bebravou\",\n",
    "    \"ODIBR\": \"Brezno\",\n",
    "    \"ODIBS\": \"Banská Štiavnica\",\n",
    "    \"ODIBY\": \"Bytča\",\n",
    "    \"ODICA\": \"Čadca\",\n",
    "    \"ODIDK\": \"Dolný Kubín\",\n",
    "    \"ODIDS\": \"Dunajská Streda\",\n",
    "    \"ODIDT\": \"Detva\",\n",
    "    \"ODIGA\": \"Galanta\",\n",
    "    \"ODIGL\": \"Gelnica\",\n",
    "    \"ODIHC\": \"Hlohovec\",\n",
    "    \"ODIHE\": \"Humenné\",\n",
    "    \"ODIHN\": \"Humenné\",\n",
    "    \"ODIIL\": \"Ilava\",\n",
    "    \"ODIKA\": \"Krupina\",\n",
    "    \"ODIKE\": \"Košice\",\n",
    "    \"ODIKK\": \"Kežmarok\",\n",
    "    \"ODIKM\": \"Kysucké Nové Mesto\",\n",
    "    \"ODIKN\": \"Komárno\",\n",
    "    \"ODIKS\": \"Košice-okolie\",\n",
    "    \"ODILC\": \"Lučenec\",\n",
    "    \"ODILE\": \"Levoča\",\n",
    "    \"ODILM\": \"Liptovský Mikuláš\",\n",
    "    \"ODILV\": \"Levice\",\n",
    "    \"ODIMA\": \"Malacky\",\n",
    "    \"ODIMI\": \"Michalovce\",\n",
    "    \"ODIML\": \"Medzilaborce\",\n",
    "    \"ODIMT\": \"Martin\",\n",
    "    \"ODIMY\": \"Myjava\",\n",
    "    \"ODINM\": \"Nové Mesto nad Váhom\",\n",
    "    \"ODINO\": \"Námestovo\",\n",
    "    \"ODINR\": \"Nitra\",\n",
    "    \"ODINZ\": \"Nové Zámky\",\n",
    "    \"ODIPB\": \"Považská Bystrica\",\n",
    "    \"ODIPD\": \"Prievidza\",\n",
    "    \"ODIPE\": \"Partizánske\",\n",
    "    \"ODIPK\": \"Pezinok\",\n",
    "    \"ODIPN\": \"Piešťany\",\n",
    "    \"ODIPO\": \"Prešov\",\n",
    "    \"ODIPP\": \"Poprad\",\n",
    "    \"ODIPT\": \"Poltár\",\n",
    "    \"ODIPU\": \"Púchov\",\n",
    "    \"ODIRA\": \"Revúca\",\n",
    "    \"ODIRK\": \"Ružomberok\",\n",
    "    \"ODIRS\": \"Rimavská Sobota\",\n",
    "    \"ODIRV\": \"Rožňava\",\n",
    "    \"ODISA\": \"Šaľa\",\n",
    "    \"ODISB\": \"Sabinov\",\n",
    "    \"ODISC\": \"Senec\",\n",
    "    \"ODISE\": \"Senica\",\n",
    "    \"ODISI\": \"Skalica\",\n",
    "    \"ODISK\": \"Svidník\",\n",
    "    \"ODISL\": \"Stará Ľubovňa\",\n",
    "    \"ODISN\": \"Spišská Nová Ves\",\n",
    "    \"ODISO\": \"Sobrance\",\n",
    "    \"ODISP\": \"Stropkov\",\n",
    "    \"ODISV\": \"Snina\",\n",
    "    \"ODITN\": \"Trenčín\",\n",
    "    \"ODITO\": \"Topoľčany\",\n",
    "    \"ODITR\": \"Turčianske Teplice\",\n",
    "    \"ODITS\": \"Tvrdošín\",\n",
    "    \"ODITT\": \"Trnava\",\n",
    "    \"ODITV\": \"Trebišov\",\n",
    "    \"ODIVK\": \"Veľký Krtíš\",\n",
    "    \"ODIVT\": \"Vranov nad Topľou\",\n",
    "    \"ODIZA\": \"Žilina\",\n",
    "    \"ODIZC\": \"Žarnovica\",\n",
    "    \"ODIZH\": \"Žiar nad Hronom\",\n",
    "    \"ODIZM\": \"Zlaté Moravce\",\n",
    "    \"ODIZV\": \"Zvolen\"\n",
    "}"
   ]
  },
  {
   "cell_type": "code",
   "execution_count": null,
   "id": "51b2f6de-203d-46bf-8baa-5193304e4978",
   "metadata": {},
   "outputs": [],
   "source": [
    "df_registered_vehicles_1 = df_registered_vehicles_original.copy()"
   ]
  },
  {
   "cell_type": "code",
   "execution_count": null,
   "id": "95816421-fdf2-4c2b-a9da-1d05a2181293",
   "metadata": {},
   "outputs": [],
   "source": [
    "df_registered_vehicles_1[\"Okres\"] = df_registered_vehicles_1[\"Okres\"].map(dict_districts_abbrevations)"
   ]
  },
  {
   "cell_type": "code",
   "execution_count": null,
   "id": "e8f443f9-e900-4f64-98e3-108e6f9baf5f",
   "metadata": {},
   "outputs": [],
   "source": [
    "df_registered_vehicles_1"
   ]
  },
  {
   "cell_type": "markdown",
   "id": "44b7c981-fe0c-46dc-b0a5-44acd3c64050",
   "metadata": {},
   "source": [
    "### **[01.2] Using Only the Year**"
   ]
  },
  {
   "cell_type": "code",
   "execution_count": null,
   "id": "9159769b-3d2a-4fae-80fb-f471e379bcaf",
   "metadata": {},
   "outputs": [],
   "source": [
    "df_registered_vehicles_2 = df_registered_vehicles_1.copy()"
   ]
  },
  {
   "cell_type": "code",
   "execution_count": null,
   "id": "942488dc-6335-4c0f-9d01-353019b8735a",
   "metadata": {},
   "outputs": [],
   "source": [
    "df_registered_vehicles_2[\"Dátum\"] = df_registered_vehicles_2[\"Dátum\"].dt.year"
   ]
  },
  {
   "cell_type": "code",
   "execution_count": null,
   "id": "778eca20-0b45-4b5d-ae49-3d7cdb5ab4fe",
   "metadata": {},
   "outputs": [],
   "source": [
    "df_registered_vehicles_2 = df_registered_vehicles_2.rename(columns={\"Dátum\": \"Rok\"})"
   ]
  },
  {
   "cell_type": "code",
   "execution_count": null,
   "id": "c73b0f0e-67cc-4292-811a-1d243624d239",
   "metadata": {},
   "outputs": [],
   "source": [
    "df_registered_vehicles_2[\"Kraj\"] = df_registered_vehicles_2[\"Kraj\"].replace(\"Bratislava\", \"Bratislavský\")\n",
    "df_registered_vehicles_2[\"Kraj\"] = df_registered_vehicles_2[\"Kraj\"].replace(\"Trnava\", \"Trnavský\")\n",
    "df_registered_vehicles_2[\"Kraj\"] = df_registered_vehicles_2[\"Kraj\"].replace(\"Trenčín\", \"Trenčiansky\")\n",
    "df_registered_vehicles_2[\"Kraj\"] = df_registered_vehicles_2[\"Kraj\"].replace(\"Nitra\", \"Nitriansky\")\n",
    "df_registered_vehicles_2[\"Kraj\"] = df_registered_vehicles_2[\"Kraj\"].replace(\"Žilina\", \"Žilinský\")\n",
    "df_registered_vehicles_2[\"Kraj\"] = df_registered_vehicles_2[\"Kraj\"].replace(\"Banská Bystrica\", \"Banskobystrický\")\n",
    "df_registered_vehicles_2[\"Kraj\"] = df_registered_vehicles_2[\"Kraj\"].replace(\"Prešov\", \"Prešovský\")\n",
    "df_registered_vehicles_2[\"Kraj\"] = df_registered_vehicles_2[\"Kraj\"].replace(\"Košice\", \"Košický\")"
   ]
  },
  {
   "cell_type": "code",
   "execution_count": null,
   "id": "29ebcdb9-4fac-40e9-8f03-2c8dff08ccd0",
   "metadata": {},
   "outputs": [],
   "source": [
    "df_registered_vehicles_FINAL = df_registered_vehicles_2.copy()"
   ]
  },
  {
   "cell_type": "code",
   "execution_count": null,
   "id": "be7f002b-102c-46c6-a0ad-b8ef1c3b404d",
   "metadata": {},
   "outputs": [],
   "source": [
    "df_registered_vehicles_FINAL\n",
    "\n",
    "# This is the final data frame containing data on all types of vehicles in Slovakia from 2003 to 2024"
   ]
  },
  {
   "cell_type": "markdown",
   "id": "1026a353-3cb3-4e09-87c0-7ee725ed8eed",
   "metadata": {},
   "source": [
    "### **[01.3] Using Only Passenger Cars (OSOBNÉ VOZIDLO)**"
   ]
  },
  {
   "cell_type": "code",
   "execution_count": null,
   "id": "219717a6-2884-4bc6-a36f-5a016736d26f",
   "metadata": {},
   "outputs": [],
   "source": [
    "df_registered_passenger_cars_FINAL = df_registered_vehicles_2[df_registered_vehicles_2[\"Vozidlo\"] == \"OSOBNÉ VOZIDLO\"]"
   ]
  },
  {
   "cell_type": "code",
   "execution_count": null,
   "id": "3f8014fd-cb81-45a3-b76d-0d13c35f00ec",
   "metadata": {},
   "outputs": [],
   "source": [
    "df_registered_passenger_cars_FINAL"
   ]
  },
  {
   "cell_type": "markdown",
   "id": "9dd95278-a308-473a-898b-3dfcaf7c1a03",
   "metadata": {},
   "source": [
    "### **[01.4] Total Number of Registered Passenger Cars in Slovakia from 2003 to 2024**"
   ]
  },
  {
   "cell_type": "code",
   "execution_count": null,
   "id": "d77235ae-541e-41a6-be3f-490e32ed2004",
   "metadata": {},
   "outputs": [],
   "source": [
    "df_passenger_cars_SLOVAKIA = df_registered_passenger_cars_FINAL.groupby(\"Rok\")[\"Počet\"].sum().reset_index()"
   ]
  },
  {
   "cell_type": "code",
   "execution_count": null,
   "id": "3cca4ea3-172e-4957-8838-7496fe49e435",
   "metadata": {},
   "outputs": [],
   "source": [
    "df_passenger_cars_SLOVAKIA"
   ]
  },
  {
   "cell_type": "code",
   "execution_count": null,
   "id": "c19bf3cf-716f-4a8b-9dc3-3845ca7be01f",
   "metadata": {},
   "outputs": [],
   "source": [
    "import matplotlib.pyplot as plt\n",
    "import seaborn as sns\n",
    "sns.set()"
   ]
  },
  {
   "cell_type": "code",
   "execution_count": null,
   "id": "ff442c31-45bc-4fc0-b658-32cfbc8c19e4",
   "metadata": {},
   "outputs": [],
   "source": [
    "colors = [\"#000F08\", \"#136F63\", \"#E0CA3C\", \"#F34213\", \"#993937\", \"#3E2F5B\"]"
   ]
  },
  {
   "cell_type": "code",
   "execution_count": null,
   "id": "a83c7238-f007-49cb-b945-e9864dc614e2",
   "metadata": {},
   "outputs": [],
   "source": [
    "sns.set_style(\"white\")\n",
    "sns.set_palette(\"Paired\")\n",
    "\n",
    "plt.figure(figsize = (11, 6))\n",
    "bars = plt.bar(x = df_passenger_cars_SLOVAKIA[\"Rok\"],\n",
    "               height = df_passenger_cars_SLOVAKIA[\"Počet\"] / 1000000,\n",
    "               edgecolor = \"black\",\n",
    "               linewidth = 0.5)\n",
    "plt.xticks(df_passenger_cars_SLOVAKIA[\"Rok\"], fontsize = 10, rotation = 45)\n",
    "plt.yticks([])\n",
    "plt.title(\"Total Number of Registered Passenger Cars in Slovakia from 2003 to 2024 (in millions)\",\n",
    "          fontsize = 18,\n",
    "          weight = \"bold\")\n",
    "\n",
    "for bar in bars:\n",
    "    height = bar.get_height()\n",
    "    rounded_value = round(height, 2)\n",
    "    plt.text(\n",
    "        bar.get_x() + bar.get_width() / 2,\n",
    "        height,\n",
    "        str(rounded_value),\n",
    "        ha=\"center\",\n",
    "        va=\"bottom\",\n",
    "        fontsize = 10)\n",
    "\n",
    "plt.xlim(min(df_passenger_cars_SLOVAKIA[\"Rok\"]) - 0.8, max(df_passenger_cars_SLOVAKIA[\"Rok\"]) + 0.8)\n",
    "\n",
    "plt.tight_layout()\n",
    "plt.figtext(0.5, -0.01, \"Original data source: Ministry of Interior of the Slovak Republic\",\n",
    "            ha = \"center\",\n",
    "            fontsize = 9,\n",
    "            color = \"black\")\n",
    "\n",
    "\n",
    "plt.tight_layout()\n",
    "plt.savefig(\"Visualizations/Total Number of Passenger Cars (2003-2024).png\",\n",
    "            bbox_inches = \"tight\",\n",
    "            pad_inches = 0.1)\n",
    "plt.show()"
   ]
  },
  {
   "cell_type": "markdown",
   "id": "1a5fbc08-6173-44f5-a8b4-974360bc6476",
   "metadata": {},
   "source": [
    "### **[01.5] Yearly Increase in Registered Passenger Cars in Slovakia from 2004 to 2024**"
   ]
  },
  {
   "cell_type": "code",
   "execution_count": null,
   "id": "992e233c-c201-4a7c-a506-0eeec0816f80",
   "metadata": {},
   "outputs": [],
   "source": [
    "df_passenger_cars_yearly_increase = df_passenger_cars_SLOVAKIA.copy()"
   ]
  },
  {
   "cell_type": "code",
   "execution_count": null,
   "id": "d2dc0790-91dc-484c-935f-4a6141fe3d31",
   "metadata": {},
   "outputs": [],
   "source": [
    "df_passenger_cars_yearly_increase[\"Nárast\"] = df_passenger_cars_yearly_increase[\"Počet\"].diff()\n",
    "df_passenger_cars_yearly_increase = df_passenger_cars_yearly_increase[1:]\n",
    "del df_passenger_cars_yearly_increase[\"Počet\"]\n",
    "df_passenger_cars_yearly_increase"
   ]
  },
  {
   "cell_type": "code",
   "execution_count": null,
   "id": "37962797-f920-431d-96de-26d4300f55ec",
   "metadata": {},
   "outputs": [],
   "source": [
    "sns.set_style(\"white\")\n",
    "sns.set_palette(\"Paired\")\n",
    "\n",
    "plt.figure(figsize = (11, 6))\n",
    "bars = plt.bar(x = df_passenger_cars_yearly_increase[\"Rok\"],\n",
    "               height = df_passenger_cars_yearly_increase[\"Nárast\"] / 1000,\n",
    "               edgecolor = \"black\",\n",
    "               linewidth = 0.5)\n",
    "plt.xticks(df_passenger_cars_yearly_increase[\"Rok\"], fontsize = 10, rotation = 45)\n",
    "plt.yticks([])\n",
    "plt.title(\"Yearly Increase of Registered Passenger Cars in Slovakia from 2004 to 2024 (in thousands)\",\n",
    "          fontsize = 18,\n",
    "          weight = \"bold\")\n",
    "\n",
    "for bar in bars:\n",
    "    height = bar.get_height()\n",
    "    rounded_value = round(height, 1)\n",
    "    plt.text(\n",
    "        bar.get_x() + bar.get_width() / 2,\n",
    "        height,\n",
    "        str(rounded_value),\n",
    "        ha=\"center\",\n",
    "        va=\"bottom\",\n",
    "        fontsize = 10)\n",
    "\n",
    "plt.figtext(0.5, -0.01, \"Original data source: Ministry of Interior of the Slovak Republic\",\n",
    "            ha = \"center\",\n",
    "            fontsize = 9,\n",
    "            color = \"black\")\n",
    "\n",
    "plt.xlim(min(df_passenger_cars_SLOVAKIA[\"Rok\"]) + 0.2 , max(df_passenger_cars_SLOVAKIA[\"Rok\"]) + 0.8)\n",
    "plt.tight_layout()\n",
    "plt.savefig(\"Visualizations/Yearly Increase in Passenger Cars (2004-2024).png\",\n",
    "            bbox_inches = \"tight\",\n",
    "            pad_inches = 0.1)\n",
    "plt.show()"
   ]
  },
  {
   "cell_type": "markdown",
   "id": "7a5ca5f2-88ef-47d0-bc56-c17c6954a45f",
   "metadata": {},
   "source": [
    "### **[01.6] Change in the Numbers of Vehicles in Slovakia by Category from 2003 to 2024**"
   ]
  },
  {
   "cell_type": "code",
   "execution_count": null,
   "id": "df0d607b-25d9-4ea1-a223-17c8ec25ed70",
   "metadata": {},
   "outputs": [],
   "source": [
    "dict_vehicle_category = {\n",
    "    \"AUTOBUS ĎIAĽKOVÝ TRIEDY B\": \"buses\",\n",
    "    \"AUTOBUS DIAĽKOVÝ TRIEDY III\": \"buses\",\n",
    "    \"AUTOBUS MEDZIMESTSKÝ TRIEDY II\": \"buses\",\n",
    "    \"AUTOBUS MESTSKÝ TRIEDY A\": \"buses\",\n",
    "    \"AUTOBUS MESTSKÝ TRIEDY I\": \"buses\",\n",
    "    \"AUTOBUS ŠPECIÁLNY\": \"buses\",\n",
    "    \"BICYKEL S POHONNÝM SYSTÉMOM\": \"motorcycles & small vehicles\",\n",
    "    \"ĽAHKÁ ŠTVORKOLKA\": \"motorcycles & small vehicles\",\n",
    "    \"MALÁ TROJKOLKA\": \"motorcycles & small vehicles\",\n",
    "    \"MALÝ MOTOCYKEL\": \"motorcycles & small vehicles\",\n",
    "    \"MIGRÁCIA:nezadané\": \"special vehicles & other\",\n",
    "    \"MOTOCYKEL\": \"motorcycles & small vehicles\",\n",
    "    \"MOTOCYKEL S POSTRANNÝM VOZÍKOM\": \"motorcycles & small vehicles\",\n",
    "    \"NÁKLADNÁ ŠTVORKOLKA\": \"motorcycles & small vehicles\",\n",
    "    \"NÁKLADNÉ VOZIDLO\": \"freight vehicles & tractors\",\n",
    "    \"NÁKLADNÉ VOZIDLO - ŤAHAČ NÁVESU\": \"freight vehicles & tractors\",\n",
    "    \"NÁKLADNÉ VOZIDLO - ŤAHAČ PRÍVESU\": \"freight vehicles & tractors\",\n",
    "    \"NÁKLADNÉ VOZIDLO ŠPECIÁLNE\": \"freight vehicles & tractors\",\n",
    "    \"NÁVES NÁKLADNÝ\": \"trailers & semi-trailers\",\n",
    "    \"NÁVES NÁKLADNÝ ŠPECIÁLNY\": \"trailers & semi-trailers\",\n",
    "    \"NÁVES NÁKLADNÝ ŠPECIÁLNY ZA TRAKTOR\": \"trailers & semi-trailers\",\n",
    "    \"NÁVES NÁKLADNÝ ZA TRAKTOR\": \"trailers & semi-trailers\",\n",
    "    \"NÁVES OBYTNÝ\": \"trailers & semi-trailers\",\n",
    "    \"NÁVES ŠPECIÁLNY\": \"trailers & semi-trailers\",\n",
    "    \"NÁVES ŠPECIÁLNY ZA TRAKTOR\": \"trailers & semi-trailers\",\n",
    "    \"OSOBNÁ ŠTVORKOLKA\": \"motorcycles & small vehicles\",\n",
    "    \"OSOBNÉ VOZIDLO\": \"passenger cars\",\n",
    "    \"PRACOVNÝ STROJ SAMOHYBNÝ\": \"special vehicles & other\",\n",
    "    \"PRÍVES NÁKLADNÝ\": \"trailers & semi-trailers\",\n",
    "    \"PRÍVES NÁKLADNÝ ŠPECIÁLNY\": \"trailers & semi-trailers\",\n",
    "    \"PRÍVES NÁKLADNÝ ŠPECIÁLNY ZA TRAKTOR\": \"trailers & semi-trailers\",\n",
    "    \"PRÍVES NÁKLADNÝ ZA TRAKTOR\": \"trailers & semi-trailers\",\n",
    "    \"PRÍVES OBYTNÝ\": \"trailers & semi-trailers\",\n",
    "    \"PRÍVES ŠPECIÁLNY\": \"trailers & semi-trailers\",\n",
    "    \"PRÍVES ŠPECIÁLNY ZA TRAKTOR\": \"trailers & semi-trailers\",\n",
    "    \"PRÍVES ZA MOTOCYKEL\": \"trailers & semi-trailers\",\n",
    "    \"SNEŽNÝ SKÚTER\": \"motorcycles & small vehicles\",\n",
    "    \"ŠPECIÁLNE VOZIDLO\": \"special vehicles & other\",\n",
    "    \"ŠPECIÁLNE VOZIDLO (N1)\": \"special vehicles & other\",\n",
    "    \"ŠPECIÁLNE VOZIDLO (N2)\": \"special vehicles & other\",\n",
    "    \"ŠPECIÁLNE VOZIDLO (N3)\": \"special vehicles & other\",\n",
    "    \"ŠTVORKOLKA\": \"motorcycles & small vehicles\",\n",
    "    \"TRAKTOR KOLESOVÝ LESNÝ\": \"freight vehicles & tractors\",\n",
    "    \"TRAKTOR KOLESOVÝ POĽNOHOSPODÁRSKY\": \"freight vehicles & tractors\",\n",
    "    \"TRAKTOR PÁSOVÝ POĽNOHOSPODÁRSKY\": \"freight vehicles & tractors\",\n",
    "    \"TRAKTOR ŠPECIÁLNY\": \"freight vehicles & tractors\",\n",
    "    \"TROJKOLKA\": \"motorcycles & small vehicles\"\n",
    "}\n",
    "\n",
    "# I used ChatGPT to help me create a dictionary which I can use to classify vehicles into categories"
   ]
  },
  {
   "cell_type": "code",
   "execution_count": null,
   "id": "21d8c108-5f87-4908-b4ad-ed9d6bb585c4",
   "metadata": {},
   "outputs": [],
   "source": [
    "df_registered_vehicles_categories = df_registered_vehicles_1.copy()\n",
    "df_registered_vehicles_categories[\"Category\"] = df_registered_vehicles_categories[\"Vozidlo\"].map(dict_vehicle_category)\n",
    "df_registered_vehicles_categories[\"Dátum\"] = df_registered_vehicles_categories[\"Dátum\"].dt.year\n",
    "df_registered_vehicles_categories = df_registered_vehicles_categories.rename(columns={\"Dátum\": \"Rok\"})\n",
    "df_registered_vehicles_categories"
   ]
  },
  {
   "cell_type": "code",
   "execution_count": null,
   "id": "d701f8aa-13bc-497e-abdc-081a59a51ec9",
   "metadata": {},
   "outputs": [],
   "source": [
    "df_vehicles_amount_by_category = df_registered_vehicles_categories.groupby([\"Rok\", \"Category\"])[\"Počet\"].sum().reset_index()\n",
    "df_vehicles_amount_by_category"
   ]
  },
  {
   "cell_type": "code",
   "execution_count": null,
   "id": "166a0bfe-88c0-48e8-a58e-e80f3197aef0",
   "metadata": {},
   "outputs": [],
   "source": [
    "df_vehicles_amount_by_category_wide = df_vehicles_amount_by_category.pivot(index = \"Rok\",\n",
    "                                                                           columns = \"Category\",\n",
    "                                                                           values = \"Počet\").fillna(0).reset_index()\n",
    "\n",
    "df_vehicles_amount_by_category_wide"
   ]
  },
  {
   "cell_type": "code",
   "execution_count": null,
   "id": "e83f4ced-7842-4eea-b83d-79ec2b49ce42",
   "metadata": {},
   "outputs": [],
   "source": [
    "df_vehicles_amount_by_category_wide_yearly_diff = df_vehicles_amount_by_category_wide.set_index(\"Rok\").diff().reset_index()[1:]\n",
    "df_vehicles_amount_by_category_wide_yearly_diff"
   ]
  },
  {
   "cell_type": "code",
   "execution_count": null,
   "id": "e5f3fef1-91b1-4472-bb6b-6ce0e01c20b4",
   "metadata": {},
   "outputs": [],
   "source": [
    "colors = [\"#000F08\", \"#136F63\", \"#E0CA3C\", \"#F34213\", \"#993937\", \"#3E2F5B\"]"
   ]
  },
  {
   "cell_type": "code",
   "execution_count": null,
   "id": "54f91a9b-4804-4d24-a91c-a31032f6d846",
   "metadata": {},
   "outputs": [],
   "source": [
    "labels = [\"freight vehicles & tractors\",\n",
    "          \"special vehicles & other\",\n",
    "          \"motorcycles & small vehicles\",\n",
    "          \"buses\",\n",
    "          \"trailers & semi-trailers\"]\n",
    "\n",
    "sns.set_style(\"whitegrid\")\n",
    "sns.set_palette(\"Paired\")\n",
    "plt.figure(figsize = (11, 6))\n",
    "plt.plot(df_vehicles_amount_by_category_wide_yearly_diff[\"Rok\"],\n",
    "         df_vehicles_amount_by_category_wide_yearly_diff[\"freight vehicles & tractors\"],\n",
    "         linewidth = 3,\n",
    "         marker = \"o\",\n",
    "         markersize = 3.5)\n",
    "plt.plot(df_vehicles_amount_by_category_wide_yearly_diff[\"Rok\"],\n",
    "         df_vehicles_amount_by_category_wide_yearly_diff[\"special vehicles & other\"],\n",
    "         linewidth = 3,\n",
    "         marker = \"o\",\n",
    "         markersize = 3.5)\n",
    "plt.plot(df_vehicles_amount_by_category_wide_yearly_diff[\"Rok\"],\n",
    "         df_vehicles_amount_by_category_wide_yearly_diff[\"motorcycles & small vehicles\"],\n",
    "         linewidth = 3,\n",
    "         marker = \"o\",\n",
    "         markersize = 3.5)\n",
    "plt.plot(df_vehicles_amount_by_category_wide_yearly_diff[\"Rok\"],\n",
    "         df_vehicles_amount_by_category_wide_yearly_diff[\"buses\"],\n",
    "         linewidth = 3,\n",
    "         marker = \"o\",\n",
    "         markersize = 3.5)\n",
    "plt.plot(df_vehicles_amount_by_category_wide_yearly_diff[\"Rok\"],\n",
    "         df_vehicles_amount_by_category_wide_yearly_diff[\"trailers & semi-trailers\"],\n",
    "         linewidth = 3,\n",
    "         marker = \"o\",\n",
    "         markersize = 3.5)\n",
    "\n",
    "plt.axhline(0, color='#000F00', linewidth = 1, linestyle='--')\n",
    "plt.xticks(df_vehicles_amount_by_category_wide_yearly_diff[\"Rok\"], fontsize = 10, rotation = 45)\n",
    "plt.yticks([-10000, -5000, 0, 5000, 10000, 15000, 20000, 25000, 30000, 35000, 40000],\n",
    "           fontsize = 10)\n",
    "\n",
    "plt.legend(labels = labels, loc = \"upper right\", fontsize = 14,)\n",
    "plt.title(\"Yearly Change in the Number of Vehicles of Specific Categories in Slovakia (2004-2024)\",\n",
    "          fontsize = 18,\n",
    "          weight = \"bold\")\n",
    "\n",
    "plt.figtext(0.5, -0.01, \"Original data source: Ministry of Interior of the Slovak Republic\",\n",
    "            ha = \"center\",\n",
    "            fontsize = 9,\n",
    "            color = \"black\")\n",
    "\n",
    "plt.tight_layout()\n",
    "plt.savefig(\"Visualizations/Yearly Change in Vehicles of Specific Categories (2004-2024).png\",\n",
    "            bbox_inches = \"tight\",\n",
    "            pad_inches = 0.1)\n",
    "plt.show()"
   ]
  },
  {
   "cell_type": "markdown",
   "id": "5072005d-8433-4e65-b749-a595c4e3bd65",
   "metadata": {},
   "source": [
    "# **[02] Vehicles per 100 Inhabitants**"
   ]
  },
  {
   "cell_type": "code",
   "execution_count": null,
   "id": "f624a1a5-0b1d-4917-b9a3-14109e2c203d",
   "metadata": {},
   "outputs": [],
   "source": [
    "df_population_size = pd.read_excel(\"Data Files/Population by Municipalities 2003-2024.xlsx\")"
   ]
  },
  {
   "cell_type": "code",
   "execution_count": null,
   "id": "7201a2bc-9272-40d4-b9b6-141035198276",
   "metadata": {},
   "outputs": [],
   "source": [
    "df_population_size[\"Okres\"] = df_population_size[\"Okres\"].str.replace(\"^Okres \", \"\", regex=True)\n",
    "df_population_size\n",
    "\n",
    "# I removed the word \"Okres\" at the beginning of the districts for easier further manipulation with the data"
   ]
  },
  {
   "cell_type": "code",
   "execution_count": null,
   "id": "44b07117-21f2-4225-bf0a-672df96f3096",
   "metadata": {},
   "outputs": [],
   "source": [
    "# List of districts in each region\n",
    "\n",
    "Bratislavský = [\n",
    "    \"Bratislava I\", \"Bratislava II\", \"Bratislava III\", \"Bratislava IV\",\n",
    "    \"Bratislava V\", \"Malacky\", \"Pezinok\", \"Senec\"\n",
    "]\n",
    "\n",
    "Trnavský = [\n",
    "    \"Dunajská Streda\", \"Galanta\", \"Hlohovec\", \"Piešťany\",\n",
    "    \"Senica\", \"Skalica\", \"Trnava\"\n",
    "]\n",
    "\n",
    "Trenčiansky = [\n",
    "    \"Bánovce nad Bebravou\", \"Ilava\", \"Myjava\", \"Nové Mesto nad Váhom\",\n",
    "    \"Partizánske\", \"Považská Bystrica\", \"Prievidza\", \"Púchov\", \"Trenčín\"\n",
    "]\n",
    "\n",
    "Nitriansky = [\n",
    "    \"Komárno\", \"Levice\", \"Nitra\", \"Nové Zámky\",\n",
    "    \"Šaľa\", \"Topoľčany\", \"Zlaté Moravce\"\n",
    "]\n",
    "\n",
    "Žilinský = [\n",
    "    \"Bytča\", \"Čadca\", \"Dolný Kubín\", \"Kysucké Nové Mesto\",\n",
    "    \"Liptovský Mikuláš\", \"Martin\", \"Námestovo\", \"Ružomberok\",\n",
    "    \"Turčianske Teplice\", \"Tvrdošín\", \"Žilina\"\n",
    "]\n",
    "\n",
    "Banskobystrický = [\n",
    "    \"Banská Bystrica\", \"Banská Štiavnica\", \"Brezno\", \"Detva\",\n",
    "    \"Krupina\", \"Lučenec\", \"Poltár\", \"Revúca\",\n",
    "    \"Rimavská Sobota\", \"Veľký Krtíš\", \"Zvolen\", \"Žarnovica\",\n",
    "    \"Žiar nad Hronom\"\n",
    "]\n",
    "\n",
    "Prešovský = [\n",
    "    \"Bardejov\", \"Humenné\", \"Kežmarok\", \"Levoča\", \"Medzilaborce\",\n",
    "    \"Poprad\", \"Prešov\", \"Sabinov\", \"Snina\", \"Stará Ľubovňa\",\n",
    "    \"Stropkov\", \"Svidník\", \"Vranov nad Topľou\"\n",
    "]\n",
    "\n",
    "Košický = [\n",
    "    \"Gelnica\", \"Košice I\", \"Košice II\", \"Košice III\", \"Košice IV\",\n",
    "    \"Košice-okolie\", \"Michalovce\", \"Rožňava\", \"Sobrance\",\n",
    "    \"Spišská Nová Ves\", \"Trebišov\"\n",
    "]"
   ]
  },
  {
   "cell_type": "code",
   "execution_count": null,
   "id": "51ebf479-ea9d-406f-96d6-8e4e7b0f3a42",
   "metadata": {},
   "outputs": [],
   "source": [
    "# Adding a region (\"kraj\") column to the data frame\n",
    "\n",
    "regions_map = {}\n",
    "\n",
    "for okres in Bratislavský:\n",
    "    regions_map[okres] = \"Bratislavský\"\n",
    "for okres in Trnavský:\n",
    "    regions_map[okres] = \"Trnavský\"\n",
    "for okres in Trenčiansky:\n",
    "    regions_map[okres] = \"Trenčiansky\"\n",
    "for okres in Nitriansky:\n",
    "    regions_map[okres] = \"Nitriansky\"\n",
    "for okres in Žilinský:\n",
    "    regions_map[okres] = \"Žilinský\"\n",
    "for okres in Banskobystrický:\n",
    "    regions_map[okres] = \"Banskobystrický\"\n",
    "for okres in Prešovský:\n",
    "    regions_map[okres] = \"Prešovský\"\n",
    "for okres in Košický:\n",
    "    regions_map[okres] = \"Košický\"\n",
    "\n",
    "df_population_size[\"Kraj\"] =  df_population_size[\"Okres\"].map(regions_map)\n",
    "df_population_size"
   ]
  },
  {
   "cell_type": "code",
   "execution_count": null,
   "id": "6f0f9184-4728-4a5a-a7eb-7b22433d402a",
   "metadata": {},
   "outputs": [],
   "source": [
    "# Moving the region (\"Kraj\") column to the first position.\n",
    "\n",
    "cols = df_population_size.columns.tolist()\n",
    "cols.insert(0, cols.pop(cols.index(\"Kraj\")))\n",
    "df_population_size_FINAL = df_population_size[cols]\n",
    "df_population_size_FINAL"
   ]
  },
  {
   "cell_type": "code",
   "execution_count": null,
   "id": "d349b44c-3dd8-48d0-9e5f-d588d299de9f",
   "metadata": {},
   "outputs": [],
   "source": [
    "df_population_regions = df_population_size_FINAL.copy()\n",
    "df_population_regions = df_population_regions.drop(columns = [\"Okres\", \"Obec\"])\n",
    "df_population_regions"
   ]
  },
  {
   "cell_type": "code",
   "execution_count": null,
   "id": "dad5c2c5-65e6-4cff-b33d-7acc5ad9ccdb",
   "metadata": {},
   "outputs": [],
   "source": [
    "df_population_regions_sum = df_population_regions.groupby(\"Kraj\").sum().reset_index()\n",
    "df_population_regions_sum"
   ]
  },
  {
   "cell_type": "code",
   "execution_count": null,
   "id": "076d5658-9710-424a-8c5b-9f9704c18133",
   "metadata": {},
   "outputs": [],
   "source": [
    "new_cols = []\n",
    "for col in df_population_regions_sum.columns:\n",
    "    if col != \"Kraj\":\n",
    "        new_cols.append(int(col))\n",
    "    else:\n",
    "        new_cols.append(col)\n",
    "\n",
    "df_population_regions_sum.columns = new_cols\n",
    "\n",
    "# I changed the year column names to integers in order to be able to work along with the dataframe df_passenger_cars_regions_sum"
   ]
  },
  {
   "cell_type": "code",
   "execution_count": null,
   "id": "a5323d3a-a9d9-4e13-906e-d6fd2b7082bd",
   "metadata": {},
   "outputs": [],
   "source": [
    "print([type(col) for col in df_population_regions.columns.tolist()])"
   ]
  },
  {
   "cell_type": "code",
   "execution_count": null,
   "id": "d908bb8f-1032-422d-8e8a-9db24bc2c813",
   "metadata": {},
   "outputs": [],
   "source": [
    "# Population size for the whole Slovakia over the years 2003-2024\n",
    "\n",
    "df_population_sr = df_population_regions.drop(columns = \"Kraj\")\n",
    "df_population_sr_sum = df_population_sr.sum().reset_index()\n",
    "df_population_sr_sum = df_population_sr_sum.rename(columns = {\"index\": \"Rok\"})\n",
    "df_population_sr_sum = df_population_sr_sum.rename(columns = {0: \"Počet obyvateľov\"})\n",
    "df_population_sr_sum[\"Rok\"] = pd.to_numeric(df_population_sr_sum[\"Rok\"])\n",
    "\n",
    "df_population_sr_sum"
   ]
  },
  {
   "cell_type": "markdown",
   "id": "3aa2ee29-fe55-49e6-81b2-fe4bad64536f",
   "metadata": {},
   "source": [
    "## **[02.1] Number of Passenger Cars per 100 Inhabitants by Region**"
   ]
  },
  {
   "cell_type": "code",
   "execution_count": null,
   "id": "7ad0b2da-8b19-4a19-ad7a-b8ffb15d38ec",
   "metadata": {},
   "outputs": [],
   "source": [
    "df_population_and_cars_sr = pd.merge(df_population_sr_sum, df_passenger_cars_SLOVAKIA, on = \"Rok\", how = \"right\")\n",
    "df_population_and_cars_sr = df_population_and_cars_sr.rename(columns = {\"Počet\": \"Počet osobných vozidiel\"})\n",
    "df_population_and_cars_sr"
   ]
  },
  {
   "cell_type": "code",
   "execution_count": null,
   "id": "f292e6bf-ad93-406a-93f2-7f242fc6a459",
   "metadata": {},
   "outputs": [],
   "source": [
    "df_passenger_cars_regions_sum = df_registered_passenger_cars_FINAL.drop(columns = [\"Vozidlo\", \"Okres\"])\n",
    "df_passenger_cars_regions_sum = df_passenger_cars_regions_sum.groupby([\"Rok\", \"Kraj\"])[\"Počet\"].sum().reset_index()\n",
    "df_passenger_cars_regions_sum = df_passenger_cars_regions_sum.pivot(index = \"Kraj\", columns = \"Rok\", values = \"Počet\").reset_index()\n",
    "df_passenger_cars_regions_sum"
   ]
  },
  {
   "cell_type": "code",
   "execution_count": null,
   "id": "18e47c51-c5e1-4b85-8bb2-558e9c325f3b",
   "metadata": {},
   "outputs": [],
   "source": [
    "# Number of passenger cars per 100 inhabitants by region and year\n",
    "\n",
    "years1 = sorted([int(col) for col in df_passenger_cars_regions_sum.columns if col != 'Kraj'])\n",
    "\n",
    "vehicles_data = df_passenger_cars_regions_sum.set_index(\"Kraj\")[years1]\n",
    "population_data = df_population_regions_sum.set_index(\"Kraj\")[years1]\n",
    "\n",
    "df_vehicles_per_100_by_region = vehicles_data / population_data * 100\n",
    "\n",
    "df_vehicles_per_100_by_region"
   ]
  },
  {
   "cell_type": "code",
   "execution_count": null,
   "id": "ff381af8-191d-42ba-b8f4-7d5a44be35d8",
   "metadata": {},
   "outputs": [],
   "source": [
    "# colors = [\"#000F08\", \"#136F63\", \"#E0CA3C\", \"#F34213\", \"#993937\", \"#3E2F5B\"]\n",
    "black = \"#000F08\"\n",
    "green = \"#136F63\"\n",
    "yellow = \"#E0CA3C\"\n",
    "orange = \"#F34213\"\n",
    "brown = \"#993937\"\n",
    "purple = \"#3E2F5B\"\n",
    "\n",
    "\n",
    "sns.set_style(\"whitegrid\")\n",
    "sns.set_palette(\"Paired\")\n",
    "\n",
    "plt.figure(figsize = (11, 6))\n",
    "\n",
    "\n",
    "plt.plot(years1,\n",
    "         df_vehicles_per_100_by_region.loc[\"Banskobystrický\"],\n",
    "         linewidth = 3,\n",
    "         marker = \"o\",\n",
    "         markersize = 3.5)\n",
    "plt.plot(years1,\n",
    "         df_vehicles_per_100_by_region.loc[\"Bratislavský\"],\n",
    "         linewidth = 3,\n",
    "         marker = \"o\",\n",
    "         markersize = 3.5)\n",
    "plt.plot(years1,\n",
    "         df_vehicles_per_100_by_region.loc[\"Košický\"],\n",
    "         linewidth = 3,\n",
    "         marker = \"o\",\n",
    "         markersize = 3.5)\n",
    "plt.plot(years1,\n",
    "         df_vehicles_per_100_by_region.loc[\"Nitriansky\"],\n",
    "         linewidth = 3,\n",
    "         marker = \"o\",\n",
    "         markersize = 3.5)\n",
    "plt.plot(years1,\n",
    "         df_vehicles_per_100_by_region.loc[\"Prešovský\"],\n",
    "         linewidth = 3,\n",
    "         marker = \"o\",\n",
    "         markersize = 3.5)\n",
    "plt.plot(years1,\n",
    "         df_vehicles_per_100_by_region.loc[\"Trenčiansky\"],\n",
    "         linewidth = 3,\n",
    "         marker = \"o\",\n",
    "         markersize = 3.5)\n",
    "plt.plot(years1,\n",
    "         df_vehicles_per_100_by_region.loc[\"Trnavský\"],\n",
    "         linewidth = 3,\n",
    "         marker = \"o\",\n",
    "         markersize = 3.5)\n",
    "plt.plot(years1,\n",
    "         df_vehicles_per_100_by_region.loc[\"Žilinský\"],\n",
    "         linewidth = 3,\n",
    "         marker = \"o\",\n",
    "         markersize = 3.5)\n",
    "\n",
    "\n",
    "plt.legend([\"Banská Bystrica Region\",\n",
    "            \"Bratislava Region\",\n",
    "            \"Košice Region\",\n",
    "            \"Nitra Region\",\n",
    "            \"Prešov Region\",\n",
    "            \"Trenčín Region\",\n",
    "            \"Trnava Region\", \n",
    "            \"Žilina Region\"])\n",
    "\n",
    "plt.title(\"Number of Passenger Cars per 100 Inhabitants by Region (2003-2024)\",\n",
    "          fontsize = 18,\n",
    "          weight = \"bold\")\n",
    "\n",
    "plt.figtext(0.5, -0.01, \"Original data source: Ministry of Interior of the Slovak Republic, Statistical Office of the Slovak Republic\",\n",
    "            ha = \"center\",\n",
    "            fontsize = 9,\n",
    "            color = \"black\")\n",
    "\n",
    "plt.xticks(years1, fontsize = 10, rotation = 45)\n",
    "plt.yticks([10, 15, 20, 25, 30, 35, 40, 45, 50, 55, 60, 65, 70], fontsize = 10)\n",
    "\n",
    "plt.tight_layout()\n",
    "plt.savefig(\"Visualizations/Cars per 100 People by Region (2003-2024).png\",\n",
    "            bbox_inches = \"tight\",\n",
    "            pad_inches = 0.1)\n",
    "plt.show()"
   ]
  },
  {
   "cell_type": "markdown",
   "id": "bea911c7-7cd9-482a-851a-9d614783660e",
   "metadata": {},
   "source": [
    "## **[02.2] Number of Passenger Cars per 100 Inhabitants by District**"
   ]
  },
  {
   "cell_type": "code",
   "execution_count": null,
   "id": "0b6162e6-d89c-4ca3-8897-a0fcbf710321",
   "metadata": {},
   "outputs": [],
   "source": [
    "df_population_districts = pd.read_excel(\"Data Files/Population Size 2003-2024.xlsx\")\n",
    "df_population_districts"
   ]
  },
  {
   "cell_type": "code",
   "execution_count": null,
   "id": "9323772c-92f2-41c0-9bd6-1a47cb0580d1",
   "metadata": {},
   "outputs": [],
   "source": [
    "cols = df_population_districts.columns.tolist()\n",
    "year_cols = sorted([c for c in cols if c != \"Okres\"])\n",
    "df_population_districts = df_population_districts[[\"Okres\"] + year_cols]\n",
    "df_population_districts\n",
    "\n",
    "# I just reordered the columns ascendingly"
   ]
  },
  {
   "cell_type": "code",
   "execution_count": null,
   "id": "2d9c1c5e-11bc-4b36-9358-3273e4670051",
   "metadata": {},
   "outputs": [],
   "source": [
    "df_bratislava_district_sums = df_population_districts[df_population_districts[\"Okres\"].str.contains(\"Bratislava\")].sum()\n",
    "df_bratislava_district_population = pd.DataFrame([[\"Okres Bratislava\"] + df_bratislava_district_sums[1:].tolist()], columns = df_population_districts.columns)\n",
    "df_bratislava_district_population\n",
    "\n",
    "# Summed population for all Bratislava districts"
   ]
  },
  {
   "cell_type": "code",
   "execution_count": null,
   "id": "54cc3ff4-3f3e-4f4e-8524-cf10f491bd82",
   "metadata": {},
   "outputs": [],
   "source": [
    "df_košice_districts = df_population_districts[df_population_districts[\"Okres\"].str.contains(\"Košice\") & ~df_population_districts[\"Okres\"].str.contains(\"okolie\")]\n",
    "df_košice_districts_sums = df_košice_districts.sum()\n",
    "df_košice_districts_population = pd.DataFrame([[\"Okres Košice\"] + df_košice_districts_sums[1:].tolist()], columns = df_population_districts.columns)\n",
    "df_košice_districts_population\n",
    "\n",
    "# Summed population for all Košice districts except for Košice - okolie"
   ]
  },
  {
   "cell_type": "code",
   "execution_count": null,
   "id": "484259a8-ad38-47be-8176-36c060555962",
   "metadata": {},
   "outputs": [],
   "source": [
    "bratislava_districts = [\"Okres Bratislava I\", \"Okres Bratislava II\", \"Okres Bratislava III\", \"Okres Bratislava IV\", \"Okres Bratislava V\"]\n",
    "košice_districts = [\"Okres Košice I\", \"Okres Košice II\", \"Okres Košice III\", \"Okres Košice IV\"]\n",
    "\n",
    "df_filtered = df_population_districts[~df_population_districts[\"Okres\"].isin(bratislava_districts + košice_districts)]\n",
    "\n",
    "df_population_districts_updated = pd.concat([df_filtered, df_bratislava_district_population, df_košice_districts_population], ignore_index=True).sort_values(\"Okres\")\n",
    "df_population_districts_updated[\"Okres\"] = df_population_districts_updated[\"Okres\"].str.replace(r\"^Okres\\s+\", \"\", regex=True)\n",
    "df_population_districts_updated\n",
    "\n",
    "# I removed Bratislava and Košice districts, except for Košice - okolie\n",
    "# And substituted them with corresponding summed values of Bratislava and Košice districts\n",
    "# The reason is that there is only one registration office for Bratislava and in Košice where vehicles get registered\n",
    "# These single offices administer the 5 districts of Bratislava and 4 distrcits of Košice\n",
    "# In my following calculations I view the 5 Bratislava districts and 4 Košice districts as single Bratislava district and Košice district\n",
    "# As a result I work with 72 districts instead of 79"
   ]
  },
  {
   "cell_type": "code",
   "execution_count": null,
   "id": "660e41e0-0998-4120-944d-170e603f69ec",
   "metadata": {},
   "outputs": [],
   "source": [
    "df_passenger_cars_districts = df_registered_passenger_cars_FINAL.drop(columns = ['Vozidlo', 'Kraj'])\n",
    "df_passenger_cars_districts = df_passenger_cars_districts.groupby(['Rok', 'Okres']).sum().reset_index()\n",
    "df_passenger_cars_districts = df_passenger_cars_districts.pivot(index = \"Okres\", columns = \"Rok\", values = \"Počet\").reset_index()\n",
    "df_passenger_cars_districts[\"Okres\"] = df_passenger_cars_districts[\"Okres\"].str.replace(\"Košice-okolie\", \"Košice - okolie\")\n",
    "df_passenger_cars_districts"
   ]
  },
  {
   "cell_type": "code",
   "execution_count": null,
   "id": "bdccb6a9-012a-4bc5-b68a-0ab5f3d72d93",
   "metadata": {},
   "outputs": [],
   "source": [
    "years2 = sorted([int(col) for col in df_population_districts_updated.columns if col != 'Okres'])\n",
    "\n",
    "cars_data = df_passenger_cars_districts.set_index(\"Okres\")[years2]\n",
    "districts_population_data = df_population_districts_updated.set_index(\"Okres\")[years2]\n",
    "\n",
    "df_cars_per_100_by_district = cars_data / districts_population_data * 100\n",
    "\n",
    "df_cars_per_100_by_district\n",
    "\n",
    "# Number of passenger cars per 100 inhabitans by districts"
   ]
  },
  {
   "cell_type": "markdown",
   "id": "d9ce4dea-3527-44fd-9e98-3b34296cf3ec",
   "metadata": {},
   "source": [
    "### **[02.2.1] Preparing the Map of Districts**"
   ]
  },
  {
   "cell_type": "code",
   "execution_count": null,
   "id": "cc8a2fad-b03c-43bc-ab47-f4944eb1ea18",
   "metadata": {},
   "outputs": [],
   "source": [
    "import geopandas as gpd\n",
    "\n",
    "gdf_districts = gpd.read_file(\"Data Files/Slovak Districts.geojson\")"
   ]
  },
  {
   "cell_type": "code",
   "execution_count": null,
   "id": "8b588a85-13aa-4ba1-a3a9-4c24d3cddbb8",
   "metadata": {},
   "outputs": [],
   "source": [
    "print(gdf_districts.columns)\n",
    "print(gdf_districts[\"NM3\"].unique())"
   ]
  },
  {
   "cell_type": "code",
   "execution_count": null,
   "id": "7c285677-ba89-4f00-bfda-f2ed67b92e6d",
   "metadata": {},
   "outputs": [],
   "source": [
    "gdf_bratislava_districts = gdf_districts[gdf_districts[\"NM3\"].str.contains(\"Bratislava\")]\n",
    "gdf_bratislava_merged = gdf_bratislava_districts.dissolve()\n",
    "gdf_bratislava_merged[\"NM3\"] = gdf_bratislava_merged[\"NM3\"].str.replace(\" I\", \"\", regex=True)\n",
    "gdf_bratislava_merged\n",
    "\n",
    "# I merged all shapes of Bratislava districts into one symbolizing the unified Bratislava district, which I'll be working with."
   ]
  },
  {
   "cell_type": "code",
   "execution_count": null,
   "id": "c0877c85-5458-4168-a53e-b38f37447917",
   "metadata": {},
   "outputs": [],
   "source": [
    "gdf_košice_districts = gdf_districts[gdf_districts[\"NM3\"].str.contains(\"Košice\") & ~gdf_districts[\"NM3\"].str.contains(\"okolie\")]\n",
    "gdf_košice_merged = gdf_košice_districts.dissolve()\n",
    "gdf_košice_merged[\"NM3\"] = gdf_košice_merged[\"NM3\"].str.replace(\" I\", \"\", regex=True)\n",
    "gdf_košice_merged\n",
    "\n",
    "# I did the same thing, but for Košice districts (except of \"Košice - okolie\" which will go as separate)"
   ]
  },
  {
   "cell_type": "code",
   "execution_count": null,
   "id": "ca3a2d92-86c6-43ca-99db-f96bb21ae710",
   "metadata": {},
   "outputs": [],
   "source": [
    "gdf_districts_without_ba_ke = (gdf_districts[~gdf_districts[\"NM3\"].str.contains(\"Bratislava\") \\\n",
    "                              & ~gdf_districts[\"NM3\"].str.contains(\"Košice I\") \\\n",
    "                              & ~gdf_districts[\"NM3\"].str.contains(\"Košice II\") \\\n",
    "                              & ~gdf_districts[\"NM3\"].str.contains(\"Košice III\") \\\n",
    "                              & ~gdf_districts[\"NM3\"].str.contains(\"Košice IV\")])\n",
    "gdf_districts_without_ba_ke\n",
    "\n",
    "# Slovakia's districts without the Bratislava and Košice districts"
   ]
  },
  {
   "cell_type": "code",
   "execution_count": null,
   "id": "11747377-dc45-4ec3-86b8-a6c5b14f374a",
   "metadata": {},
   "outputs": [],
   "source": [
    "gdf_districts_merged = pd.concat([gdf_districts_without_ba_ke, gdf_bratislava_merged, gdf_košice_merged], ignore_index=True).sort_values(\"IDN3\")"
   ]
  },
  {
   "cell_type": "code",
   "execution_count": null,
   "id": "9a713c58-e3fb-4a0f-bd4b-b8d9318cab59",
   "metadata": {},
   "outputs": [],
   "source": [
    "gdf_districts_merged.to_file(\"Data Files/Slovak Districts (BA, KE as one district).geojson\",\n",
    "                            driver = \"GeoJSON\")"
   ]
  },
  {
   "cell_type": "code",
   "execution_count": null,
   "id": "11af2a04-99c2-4932-b786-4531bb2dd654",
   "metadata": {},
   "outputs": [],
   "source": [
    "gdf_districts_merged\n",
    "\n",
    "# These are the updated map shapes of districts, where Bratislava and Košice are regarded as single districts"
   ]
  },
  {
   "cell_type": "markdown",
   "id": "c1b6bd16-3a2f-4540-8bb1-17569c6aec51",
   "metadata": {},
   "source": [
    "### **[02.1.2] Filling Out the Map**"
   ]
  },
  {
   "cell_type": "code",
   "execution_count": null,
   "id": "b2840dfc-c0e1-441a-8b83-24cafa317894",
   "metadata": {},
   "outputs": [],
   "source": [
    "import json\n",
    "import plotly.express as px\n",
    "from dash import Dash, dcc, html, Output, Input"
   ]
  },
  {
   "cell_type": "code",
   "execution_count": null,
   "id": "554bb23a-f1c1-47d1-80b4-e946e7d2bc9f",
   "metadata": {},
   "outputs": [],
   "source": [
    "df_cars_per_100_by_district_reset = df_cars_per_100_by_district.reset_index()\n",
    "\n",
    "df_cars_per_100_by_district_long = df_cars_per_100_by_district_reset.melt(id_vars = 'Okres',\n",
    "                                                                          var_name = 'Rok',\n",
    "                                                                          value_name = 'Počet')\n",
    "\n",
    "df_cars_per_100_by_district_long['Rok'] = df_cars_per_100_by_district_long['Rok'].astype(int)\n",
    "\n",
    "df_cars_per_100_by_district_long[df_cars_per_100_by_district_long['Počet'].isna()]"
   ]
  },
  {
   "cell_type": "code",
   "execution_count": null,
   "id": "b4fc949d-eb0a-4bd4-aac0-3d10cca7ce97",
   "metadata": {},
   "outputs": [],
   "source": [
    "import json\n",
    "import pandas as pd\n",
    "import plotly.express as px\n",
    "from dash import Dash, dcc, html, Input, Output\n",
    "\n",
    "# Load GeoJSON\n",
    "with open(\"Data Files/Slovak Districts (BA, KE as one district).geojson\",\n",
    "          \"r\", encoding=\"utf-8\") as f:\n",
    "    geojson = json.load(f)\n",
    "\n",
    "map_app = Dash(__name__)\n",
    "\n",
    "map_app.layout = html.Div([\n",
    "    html.H1(\"Number of Passenger Cars per 100 Inhabitants by District (2003-2024)\",\n",
    "            style={\"color\": \"black\",\n",
    "                   \"font-family\": \"DejaVu Sans\",\n",
    "                   \"font-size\": 24,\n",
    "                   \"font_weight\": \"bold\",\n",
    "                   \"textAlign\": \"center\"}),\n",
    "\n",
    "    html.Div(\"Select year:\",\n",
    "             style={\"font_family\": \"DejaVu Sans\",\n",
    "                    \"font-size\": 18,\n",
    "                    \"height\": \"30px\"}),\n",
    "\n",
    "    dcc.Dropdown(\n",
    "        id=\"year-dropdown-1\", \n",
    "        options=[{\"label\": str(year), \"value\": year}\n",
    "                 for year in sorted(df_cars_per_100_by_district_long[\"Rok\"].unique())],\n",
    "        value=sorted(df_cars_per_100_by_district_long[\"Rok\"].unique())[0],\n",
    "        clearable=False,\n",
    "        style={\"color\": \"black\",\n",
    "               \"font-family\": \"DejaVu Sans\",\n",
    "               \"font-size\": 14}),\n",
    "\n",
    "    dcc.Graph(id=\"choropleth-map-1\"),\n",
    "\n",
    "    html.Br(),\n",
    "    html.Div(\"Original data source: Ministry of Interior of the Slovak Republic, Statistical Office of the Slovak Republic\",\n",
    "             style={\"color\": \"black\",\n",
    "                    \"font-family\": \"DejaVu Sans\",\n",
    "                    \"font-size\": 12,\n",
    "                    \"textAlign\": \"center\"})\n",
    "])\n",
    "\n",
    "\n",
    "@map_app.callback(\n",
    "    Output(\"choropleth-map-1\", \"figure\"),  \n",
    "    Input(\"year-dropdown-1\", \"value\"))    \n",
    "def updated_map(selected_year):\n",
    "    filtered = df_cars_per_100_by_district_long[\n",
    "        df_cars_per_100_by_district_long[\"Rok\"] == selected_year\n",
    "    ]\n",
    "    fig = px.choropleth(\n",
    "        filtered,\n",
    "        geojson=geojson,\n",
    "        locations=\"Okres\",\n",
    "        featureidkey=\"properties.NM3\",\n",
    "        color=\"Počet\",\n",
    "        color_continuous_scale=\"Blackbody_r\",\n",
    "        range_color=(df_cars_per_100_by_district_long[\"Počet\"].min(),\n",
    "                     df_cars_per_100_by_district_long[\"Počet\"].max()),\n",
    "        labels={\"Počet\": \"\"},\n",
    "        template=\"none\",\n",
    "        hover_name=\"Okres\",\n",
    "        hover_data={\"Okres\": False, \"Počet\": True},\n",
    "        projection=\"transverse mercator\"\n",
    "    )\n",
    "    fig.update_geos(fitbounds=\"locations\", visible=False)\n",
    "    fig.update_layout(margin={\"r\": 0, \"t\": 30, \"l\": 0, \"b\": 0})\n",
    "    fig.update_traces(marker_line_color=\"black\", marker_line_width=0.5)\n",
    "    return fig\n",
    "\n",
    "\n",
    "if __name__ == \"__main__\":\n",
    "    map_app.run(port=8050)   # runs on port 8050"
   ]
  },
  {
   "cell_type": "markdown",
   "id": "3f3bf70f-c1c6-4c4a-bb94-8b9b808da5a3",
   "metadata": {},
   "source": [
    "## **[02.2] Yearly Change in the Number of Passenger Cars per 1000 Inhabitants by District**"
   ]
  },
  {
   "cell_type": "code",
   "execution_count": null,
   "id": "863f4611-e5da-4081-be85-32d87ac48492",
   "metadata": {},
   "outputs": [],
   "source": [
    "df_passenger_cars_districts"
   ]
  },
  {
   "cell_type": "code",
   "execution_count": null,
   "id": "22c67c2b-64f2-4061-8b2d-37d1b1c85c42",
   "metadata": {},
   "outputs": [],
   "source": [
    "years3 = [y for y in range(2003,2025)]\n",
    "\n",
    "df_passenger_cars_districts_yearly_diff = df_passenger_cars_districts[years3].diff(axis=1)\n",
    "df_passenger_cars_districts_yearly_diff = df_passenger_cars_districts_yearly_diff.drop(2003, axis=1)\n",
    "df_passenger_cars_districts_yearly_diff = pd.concat([df_passenger_cars_districts[\"Okres\"], df_passenger_cars_districts_yearly_diff], axis = 1)\n",
    "df_passenger_cars_districts_yearly_diff\n",
    "\n",
    "# The data frame displays the change in the number of passenger cars in every district by year"
   ]
  },
  {
   "cell_type": "code",
   "execution_count": null,
   "id": "11bf99bb-cd2a-49ca-a072-feeab54158ef",
   "metadata": {},
   "outputs": [],
   "source": [
    "df_population_districts_2004_2024 = df_population_districts_updated.drop(2003, axis=1)\n",
    "df_population_districts_2004_2024"
   ]
  },
  {
   "cell_type": "code",
   "execution_count": null,
   "id": "c904d053-620f-4f85-a619-c002975829b9",
   "metadata": {},
   "outputs": [],
   "source": [
    "df_cars_diff_per_1000_people_by_district = df_passenger_cars_districts_yearly_diff.set_index(\"Okres\") / df_population_districts_2004_2024.set_index(\"Okres\") * 1000\n",
    "df_cars_diff_per_1000_people_by_district = df_cars_diff_per_1000_people_by_district.reset_index()\n",
    "df_cars_diff_per_1000_people_by_district\n",
    "\n",
    "# This data frame shows the yearly change in the number of passenger cars per 1000 inhabinants in every district."
   ]
  },
  {
   "cell_type": "code",
   "execution_count": null,
   "id": "58211aa1-e453-418b-87b8-9578f5dcf5e9",
   "metadata": {},
   "outputs": [],
   "source": [
    "df_cars_diff_per_1000_people_by_district_long = df_cars_diff_per_1000_people_by_district.melt(id_vars = 'Okres',\n",
    "                                                                                              var_name = 'Rok',\n",
    "                                                                                              value_name = 'Počet')\n",
    "df_cars_diff_per_1000_people_by_district_long"
   ]
  },
  {
   "cell_type": "markdown",
   "id": "8f885988-e1e9-4c79-b791-b8a1795a196c",
   "metadata": {},
   "source": [
    "### **[02.2.] Filling Out the Map**"
   ]
  },
  {
   "cell_type": "code",
   "execution_count": null,
   "id": "a3af6948-114a-4f5e-9b7d-9a1edff1ef91",
   "metadata": {},
   "outputs": [],
   "source": [
    "import json\n",
    "import pandas as pd\n",
    "import plotly.express as px\n",
    "from dash import Dash, dcc, html, Input, Output\n",
    "\n",
    "# Load GeoJSON\n",
    "with open(\"Data Files/Slovak Districts (BA, KE as one district).geojson\",\n",
    "          \"r\", encoding=\"utf-8\") as f:\n",
    "    geojson = json.load(f)\n",
    "\n",
    "map_app2 = Dash(__name__)\n",
    "\n",
    "map_app2.layout = html.Div([\n",
    "    html.H1(\"Change in the Number of Passenger Cars per 1000 Inhabitants by District (2004-2024)\",\n",
    "            style={\"color\": \"black\",\n",
    "                   \"font-family\": \"DejaVu Sans\",\n",
    "                   \"font-size\": 24,\n",
    "                   \"font_weight\": \"bold\",\n",
    "                   \"textAlign\": \"center\"}),\n",
    "\n",
    "    html.Div(\"Select year:\",\n",
    "             style={\"font_family\": \"DejaVu Sans\",\n",
    "                    \"font-size\": 18,\n",
    "                    \"height\": \"30px\"}),\n",
    "\n",
    "    dcc.Dropdown(\n",
    "        id=\"year-dropdown-2\",  \n",
    "        options=[{\"label\": str(year), \"value\": year}\n",
    "                 for year in sorted(df_cars_diff_per_1000_people_by_district_long[\"Rok\"].unique())],\n",
    "        value=sorted(df_cars_diff_per_1000_people_by_district_long[\"Rok\"].unique())[0],\n",
    "        clearable=False,\n",
    "        style={\"color\": \"black\",\n",
    "               \"font-family\": \"DejaVu Sans\",\n",
    "               \"font-size\": 14}),\n",
    "\n",
    "    dcc.Graph(id=\"choropleth-map-2\"), \n",
    "\n",
    "    html.Br(),\n",
    "    html.Div(\"Original data source: Ministry of Interior of the Slovak Republic, Statistical Office of the Slovak Republic\",\n",
    "             style={\"color\": \"black\",\n",
    "                    \"font-family\": \"DejaVu Sans\",\n",
    "                    \"font-size\": 12,\n",
    "                    \"textAlign\": \"center\"})\n",
    "])\n",
    "\n",
    "\n",
    "@map_app2.callback(\n",
    "    Output(\"choropleth-map-2\", \"figure\"), \n",
    "    Input(\"year-dropdown-2\", \"value\"))    \n",
    "def updated_map(selected_year):\n",
    "    filtered = df_cars_diff_per_1000_people_by_district_long[\n",
    "        df_cars_diff_per_1000_people_by_district_long[\"Rok\"] == selected_year\n",
    "    ]\n",
    "    fig = px.choropleth(\n",
    "        filtered,\n",
    "        geojson=geojson,\n",
    "        locations=\"Okres\",\n",
    "        featureidkey=\"properties.NM3\",\n",
    "        color=\"Počet\",\n",
    "        color_continuous_scale=\"RdBu_r\",\n",
    "        color_continuous_midpoint=0,\n",
    "        labels={\"Počet\": \"\"},\n",
    "        template=\"none\",\n",
    "        hover_name=\"Okres\",\n",
    "        hover_data={\"Okres\": False, \"Počet\": True},\n",
    "        projection=\"transverse mercator\"\n",
    "    )\n",
    "    fig.update_geos(fitbounds=\"locations\", visible=False)\n",
    "    fig.update_layout(margin={\"r\": 0, \"t\": 30, \"l\": 0, \"b\": 0})\n",
    "    fig.update_traces(marker_line_color=\"black\", marker_line_width=0.5)\n",
    "    return fig\n",
    "\n",
    "\n",
    "if __name__ == \"__main__\":\n",
    "    map_app2.run(port=8051)  "
   ]
  },
  {
   "cell_type": "markdown",
   "id": "d9f10986-d08e-4dc1-be78-0388a77e6a7a",
   "metadata": {},
   "source": [
    "# **[03] Number of Passenger Cars vs. Other Indicators**"
   ]
  },
  {
   "cell_type": "markdown",
   "id": "5af39c5f-4ff8-4617-90ce-a1ac630cd3db",
   "metadata": {},
   "source": [
    "## **[03.1] Number of Passenger Cars vs. Average Monthly Disposable Income** "
   ]
  },
  {
   "cell_type": "code",
   "execution_count": null,
   "id": "05aed139-21d5-450d-aed0-26990257f0a2",
   "metadata": {},
   "outputs": [],
   "source": [
    "df_vehicles_per_100_by_region"
   ]
  },
  {
   "cell_type": "code",
   "execution_count": null,
   "id": "bb4fc696-3b78-4ce7-a367-969898546339",
   "metadata": {},
   "outputs": [],
   "source": [
    "df_disposable_income_by_region = pd.read_excel(\"Data Files/Disposable Income 2010-2024.xlsx\")\n",
    "df_disposable_income_by_region"
   ]
  },
  {
   "cell_type": "code",
   "execution_count": null,
   "id": "9d3d6b53-6c9e-463c-b1b2-4b06cf3312ed",
   "metadata": {},
   "outputs": [],
   "source": [
    "df_vehicles_per_100_by_region_long = df_vehicles_per_100_by_region.reset_index()\n",
    "df_vehicles_per_100_by_region_long = df_vehicles_per_100_by_region_long.melt(id_vars = \"Kraj\",\n",
    "                                                                             var_name = \"Rok\",\n",
    "                                                                             value_name = \"Autá / 100 obyvateľov\")\n",
    "df_vehicles_per_100_by_region_long"
   ]
  },
  {
   "cell_type": "code",
   "execution_count": null,
   "id": "03a22f91-b2dc-45d4-9ce4-e0ca11845bd4",
   "metadata": {},
   "outputs": [],
   "source": [
    "df_disposable_income_by_region_long = df_disposable_income_by_region.melt(id_vars = \"Kraj\",\n",
    "                                                                          var_name = \"Rok\",\n",
    "                                                                          value_name = \"Disponibilný príjem\")\n",
    "df_disposable_income_by_region_long"
   ]
  },
  {
   "cell_type": "code",
   "execution_count": null,
   "id": "a010ba45-4cb8-4e6e-8d88-a5f53eccf6fa",
   "metadata": {},
   "outputs": [],
   "source": [
    "df_cars_vs_disposable_income_by_region = pd.merge(df_vehicles_per_100_by_region_long, \n",
    "                                                  df_disposable_income_by_region_long,\n",
    "                                                   on = [\"Kraj\", \"Rok\"])\n",
    "\n",
    "df_cars_vs_disposable_income_by_region = df_cars_vs_disposable_income_by_region.rename(columns = {\"Kraj\": \"Region\",\n",
    "                                                                                                  \"Rok\": \"Year\",\n",
    "                                                                                                  \"Autá / 100 obyvateľov\": \"Cars per 100 inhabitants\",\n",
    "                                                                                                  \"Disponibilný príjem\": \"Disposable income\"})\n",
    "\n",
    "df_cars_vs_disposable_income_by_region[\"Region\"] = df_cars_vs_disposable_income_by_region[\"Region\"].replace({\"Bratislavský\": \"Bratislava Region\",\n",
    "                                                                                                             \"Trnavský\": \"Trnava Region\",\n",
    "                                                                                                             \"Trenčiansky\": \"Trenčín Region\",\n",
    "                                                                                                             \"Nitriansky\": \"Nitra Region\",\n",
    "                                                                                                             \"Žilinský\": \"Žilina Region\",\n",
    "                                                                                                             \"Banskobystrický\": \"Banská Bystrica Region\",\n",
    "                                                                                                             \"Prešovský\": \"Prešov Region\",\n",
    "                                                                                                             \"Košický\": \"Košice Region\"})\n",
    "\n",
    "df_cars_vs_disposable_income_by_region\n",
    "\n",
    "# Just changed everything to English as this is target language"
   ]
  },
  {
   "cell_type": "code",
   "execution_count": null,
   "id": "af399d9e-ef3d-44cb-822e-9bc1400fc65b",
   "metadata": {},
   "outputs": [],
   "source": [
    "import numpy as np\n",
    "\n",
    "sns.set_style(\"whitegrid\")\n",
    "\n",
    "subset_2010 = df_cars_vs_disposable_income_by_region[df_cars_vs_disposable_income_by_region[\"Year\"] == 2010]\n",
    "subset_2024 = df_cars_vs_disposable_income_by_region[df_cars_vs_disposable_income_by_region[\"Year\"] == 2024]\n",
    "\n",
    "\n",
    "plt.figure(figsize = (11, 6))\n",
    "\n",
    "plt.title(\"Passenger Cars per 100 Inhabitants vs Region's Average Disposable Income\",\n",
    "          fontsize = 18,\n",
    "          weight = \"bold\")\n",
    "\n",
    "plt.scatter(subset_2010[\"Disposable income\"],\n",
    "            subset_2010[\"Cars per 100 inhabitants\"],\n",
    "            s = 120,\n",
    "            c = \"#fb9a99\",\n",
    "            edgecolors = \"black\",\n",
    "            linewidths = 0.5)\n",
    "plt.scatter(subset_2024[\"Disposable income\"],\n",
    "            subset_2024[\"Cars per 100 inhabitants\"],\n",
    "            s = 120,\n",
    "            c = \"#e31a1c\",\n",
    "            edgecolors = \"black\",\n",
    "            linewidths = 0.5)\n",
    "\n",
    "# Markers labeled as regions' names\n",
    "region_labels = [\"Banská Bystrica\", \"Bratislava\", \"Košice\", \"Nitra\", \"Prešov\", \"Trenčín\", \"Trnava\", \"Žilina\"]\n",
    "\n",
    "for xi, yi, label in zip(subset_2010[\"Disposable income\"],\n",
    "                         subset_2010[\"Cars per 100 inhabitants\"],\n",
    "                         region_labels):\n",
    "    plt.text(xi + 4, yi - 0.8, label, fontsize = 9)\n",
    "\n",
    "for xi, yi, label in zip(subset_2024[\"Disposable income\"],\n",
    "                         subset_2024[\"Cars per 100 inhabitants\"],\n",
    "                         region_labels):\n",
    "    plt.text(xi + 4, yi - 0.8, label, fontsize = 9)\n",
    "\n",
    "\n",
    "# Trendline 1\n",
    "coefficients1 = np.polyfit(subset_2010[\"Disposable income\"],\n",
    "                           subset_2010[\"Cars per 100 inhabitants\"],\n",
    "                           deg = 1)\n",
    "trendline1 = np.poly1d(coefficients1)\n",
    "x1_fit = np.linspace(subset_2010[\"Disposable income\"].min(),\n",
    "                     subset_2010[\"Disposable income\"].max(),\n",
    "                     100)\n",
    "y1_fit = trendline1(x1_fit)\n",
    "plt.plot(x1_fit, y1_fit, color = \"#fb9a99\", label = \"Trend line\")\n",
    "\n",
    "# Trendline 2\n",
    "coefficients2 = np.polyfit(subset_2024[\"Disposable income\"],\n",
    "                           subset_2024[\"Cars per 100 inhabitants\"],\n",
    "                           deg = 1)\n",
    "trendline2 = np.poly1d(coefficients2)\n",
    "x2_fit = np.linspace(subset_2024[\"Disposable income\"].min(),\n",
    "                     subset_2024[\"Disposable income\"].max(),\n",
    "                     100)\n",
    "y2_fit = trendline2(x2_fit)\n",
    "plt.plot(x2_fit, y2_fit, color = \"#e31a1c\", label = \"Trend line\")\n",
    "\n",
    "\n",
    "\n",
    "plt.xlabel(\"Average monthly disposable income per person (in EUR)\",\n",
    "           weight = \"bold\",\n",
    "           fontsize = 14)\n",
    "plt.ylabel(\"Passenger cars per 100 inhabitants\",\n",
    "           weight = \"bold\",\n",
    "           fontsize = 14)\n",
    "\n",
    "plt.legend([\"2010\", \"2024\"],\n",
    "           title = \"Year\",\n",
    "           fontsize = 14,\n",
    "           title_fontsize = 14)\n",
    "\n",
    "plt.figtext(0.5, -0.01, \"Original data source: Ministry of Interior of the Slovak Republic, Statistical Office of the Slovak Republic \",\n",
    "            ha = \"center\",\n",
    "            fontsize = 9,\n",
    "            color = \"black\")\n",
    "\n",
    "plt.tight_layout()\n",
    "plt.savefig(\"Visualizations/Cars per 100 inhabitants vs Disposable Income.png\",\n",
    "            bbox_inches = \"tight\",\n",
    "            pad_inches = 0.1)\n",
    "plt.show()"
   ]
  },
  {
   "cell_type": "code",
   "execution_count": null,
   "id": "63499751-92d6-428d-8e10-6406f45a844e",
   "metadata": {},
   "outputs": [],
   "source": [
    "palette = sns.color_palette(\"Paired\")\n",
    "\n",
    "print(palette.as_hex())"
   ]
  },
  {
   "cell_type": "markdown",
   "id": "db71e9f9-f29d-42a1-9717-739de6f509a3",
   "metadata": {},
   "source": [
    "## **[03.2] Number of Passenger Cars vs. Unemployment Rate** "
   ]
  },
  {
   "cell_type": "code",
   "execution_count": null,
   "id": "d7b2b11d-9bcb-4632-b60a-449d2857335b",
   "metadata": {},
   "outputs": [],
   "source": [
    "df_unemployment_by_district = pd.read_excel(\"Data Files/Unemployment 2001-2024.xlsx\")\n",
    "\n",
    "df_unemployment_by_district = df_unemployment_by_district.rename(columns = {\"Unnamed: 0\": \"Okres\"})\n",
    "df_unemployment_by_district = df_unemployment_by_district[df_unemployment_by_district[\"Okres\"].str.contains(\"Okres\")]\n",
    "df_unemployment_by_district[\"Okres\"] = df_unemployment_by_district[\"Okres\"].str.replace(\"Okres \", \"\", regex = False)\n",
    "\n",
    "df_unemployment_by_district = df_unemployment_by_district.set_index(\"Okres\")\n",
    "years4 = sorted(df_unemployment_by_district.columns)\n",
    "df_unemployment_by_district = df_unemployment_by_district[years4]\n",
    "\n",
    "df_unemployment_by_district = df_unemployment_by_district.drop(columns = [2001, 2002, 2023, 2024])\n",
    "\n",
    "df_unemployment_by_district\n",
    "\n",
    "# This is the unemployment rate for each district over the time period of 2003-2022.\n",
    "# The problem is that Bratislava I-V and Košice I-IV are treated as separate districts in contrast to our other dataframes.\n",
    "# Averaging the unemployment rates into unified districts of Bratislava and Košice respectively would be improper\n",
    "# Because each of the subdistricts of Bratislava and Košice have different populations.\n",
    "# Instead, what we need to do is assign weights to each of the subdistricts based on their population in a given year\n",
    "# And only then calcute the weighted average."
   ]
  },
  {
   "cell_type": "code",
   "execution_count": null,
   "id": "72d6912b-5fd9-4980-969e-d40a3bbf5f1c",
   "metadata": {},
   "outputs": [],
   "source": [
    "df_population_BA_districts = df_population_size_FINAL[df_population_size_FINAL[\"Okres\"].str.contains(\"Bratislava\")]\n",
    "df_population_BA_districts = df_population_BA_districts.drop(columns = [\"Kraj\", \"Obec\"])\n",
    "df_population_BA_districts = df_population_BA_districts.groupby(\"Okres\").sum()\n",
    "\n",
    "df_population_BA_districts.columns = [int(col) for col in df_population_BA_districts.columns]\n",
    "\n",
    "years5 = list(range(2003, 2023, 1))\n",
    "df_population_BA_districts = df_population_BA_districts[years5]\n",
    "\n",
    "column_totals_BA = df_population_BA_districts.sum(axis = 0)\n",
    "\n",
    "df_population_BA_districts_weights = df_population_BA_districts.divide(column_totals_BA, axis = 1)\n",
    "df_population_BA_districts_weights\n",
    "\n",
    "# These are the weights for Bratislava districts."
   ]
  },
  {
   "cell_type": "code",
   "execution_count": null,
   "id": "c0a30a59-d96a-4063-9ca0-9e9637cf8ff8",
   "metadata": {},
   "outputs": [],
   "source": [
    "df_population_KE_districts = df_population_size_FINAL[(df_population_size_FINAL[\"Okres\"].str.contains(\"Košice\")) &\n",
    "                                                      (~df_population_size_FINAL[\"Okres\"].str.contains(\"okolie\"))]\n",
    "df_population_KE_districts = df_population_KE_districts.drop(columns = [\"Kraj\", \"Obec\"])\n",
    "df_population_KE_districts = df_population_KE_districts.groupby(\"Okres\").sum()\n",
    "\n",
    "df_population_KE_districts.columns = [int(col) for col in df_population_KE_districts.columns]\n",
    "\n",
    "years6 = list(range(2003, 2023, 1))\n",
    "df_population_KE_districts = df_population_KE_districts[years6]\n",
    "\n",
    "column_totals_KE = df_population_KE_districts.sum(axis = 0)\n",
    "\n",
    "df_population_KE_districts_weights = df_population_KE_districts.divide(column_totals_KE, axis = 1)\n",
    "df_population_KE_districts_weights\n",
    "\n",
    "# These are the weights for Košice districts."
   ]
  },
  {
   "cell_type": "code",
   "execution_count": null,
   "id": "2bbcd36d-99c4-480f-b5de-50c2d613a58a",
   "metadata": {},
   "outputs": [],
   "source": [
    "df_unemployment_by_district[df_unemployment_by_district.index.str.contains(\"Bratislava\")] = (df_unemployment_by_district[df_unemployment_by_district.index.str.contains(\"Bratislava\")] * df_population_BA_districts_weights).sum(axis = 0)\n",
    "\n",
    "df_unemployment_by_district\n",
    "# Weights applied"
   ]
  },
  {
   "cell_type": "code",
   "execution_count": null,
   "id": "e3a772fb-6b41-456e-8b11-1a01956c5d5e",
   "metadata": {},
   "outputs": [],
   "source": [
    "df_unemployment_by_district = df_unemployment_by_district[~df_unemployment_by_district.index.isin([\"Bratislava II\",\n",
    "                                                                                                   \"Bratislava III\",\n",
    "                                                                                                   \"Bratislava IV\",\n",
    "                                                                                                   \"Bratislava V\"])]\n",
    "df_unemployment_by_district = df_unemployment_by_district.reset_index()\n",
    "df_unemployment_by_district[\"Okres\"] = df_unemployment_by_district[\"Okres\"].replace(\"Bratislava I\", \"Bratislava\")\n",
    "df_unemployment_by_district = df_unemployment_by_district.set_index(\"Okres\")\n",
    "df_unemployment_by_district\n",
    "\n",
    "# Bratislava I-V districts have been unitied into one Bratislava district\n",
    "# Unemployment rate has been assigned based on the weighted average of the 5 districts"
   ]
  },
  {
   "cell_type": "code",
   "execution_count": null,
   "id": "4e2a6342-3ea6-43f5-99da-644eeb7cf2d0",
   "metadata": {},
   "outputs": [],
   "source": [
    "df_unemployment_by_district[(df_unemployment_by_district.index.str.contains(\"Košice\")) &\n",
    "                            (~df_unemployment_by_district.index.str.contains(\"okolie\"))] \\\n",
    "                            = (df_unemployment_by_district[(df_unemployment_by_district.index.str.contains(\"Košice\")) &\n",
    "                                                           (~df_unemployment_by_district.index.str.contains(\"okolie\"))] \\\n",
    "                               * df_population_KE_districts_weights).sum(axis = 0) \n",
    "\n",
    "# Weights applied."
   ]
  },
  {
   "cell_type": "code",
   "execution_count": null,
   "id": "81f2db1e-43f2-4ee1-aed5-c1d08976471b",
   "metadata": {},
   "outputs": [],
   "source": [
    "df_unemployment_by_district[df_unemployment_by_district.index.str.contains(\"Košice\")]"
   ]
  },
  {
   "cell_type": "code",
   "execution_count": null,
   "id": "62f516c4-31b2-4064-beaf-00da84d2b306",
   "metadata": {},
   "outputs": [],
   "source": [
    "df_unemployment_by_district = df_unemployment_by_district[~df_unemployment_by_district.index.isin([\"Košice II\",\n",
    "                                                                                                   \"Košice III\",\n",
    "                                                                                                   \"Košice IV\"])]\n",
    "df_unemployment_by_district = df_unemployment_by_district.reset_index()\n",
    "df_unemployment_by_district[\"Okres\"] = df_unemployment_by_district[\"Okres\"].replace(\"Košice I\", \"Košice\")\n",
    "df_unemployment_by_district[df_unemployment_by_district[\"Okres\"].str.contains(\"Košice\")]\n",
    "\n",
    "# Košice I-IV districts have been unitied into one Bratislava district\n",
    "# Unemployment rate has been assigned based on the weighted average of the 5 districts"
   ]
  },
  {
   "cell_type": "code",
   "execution_count": null,
   "id": "226ddc8b-70b5-42e2-8094-14597a3d2a65",
   "metadata": {},
   "outputs": [],
   "source": [
    "df_unemployment_by_district2 = df_unemployment_by_district.set_index(\"Okres\")\n",
    "\n",
    "df_unemployment_by_district = df_unemployment_by_district2.sort_index()\n",
    "df_unemployment_by_district = df_unemployment_by_district2.reset_index()\n",
    "df_unemployment_by_district\n",
    "\n",
    "# This is the cleaned unemployement data that we'll combine with cars / 100 inhabitants data"
   ]
  },
  {
   "cell_type": "code",
   "execution_count": null,
   "id": "246b37ea-83af-4bf9-a90f-600c13c6293f",
   "metadata": {},
   "outputs": [],
   "source": [
    "df_cars_per_100_by_district_long"
   ]
  },
  {
   "cell_type": "code",
   "execution_count": null,
   "id": "66bb56fa-0f6b-4840-9c1b-bd5326867773",
   "metadata": {},
   "outputs": [],
   "source": [
    "df_unemployment_by_district_long = df_unemployment_by_district.melt(id_vars = \"Okres\",\n",
    "                                                                    var_name = \"Rok\",\n",
    "                                                                    value_name = \"Nezamestnanosť\")\n",
    "df_unemployment_by_district_long"
   ]
  },
  {
   "cell_type": "code",
   "execution_count": null,
   "id": "62eacc0a-a4ac-45a1-8dda-8f1e00a7fb67",
   "metadata": {},
   "outputs": [],
   "source": [
    "df_cars_per_100_vs_unemployment = pd.merge(df_cars_per_100_by_district_long, \n",
    "                                           df_unemployment_by_district_long,\n",
    "                                           on = [\"Okres\", \"Rok\"])\n",
    "df_cars_per_100_vs_unemployment = df_cars_per_100_vs_unemployment.rename(columns = {\"Počet\": \"Autá / 100 obyvateľov\"})\n",
    "df_cars_per_100_vs_unemployment"
   ]
  },
  {
   "cell_type": "code",
   "execution_count": null,
   "id": "94f1dd2a-8967-4683-8f70-2592a19eabfd",
   "metadata": {},
   "outputs": [],
   "source": [
    "sns.set_style(\"whitegrid\")\n",
    "sns.set_palette(\"Paired\")\n",
    "\n",
    "subset1 = df_cars_per_100_vs_unemployment[df_cars_per_100_vs_unemployment[\"Rok\"] == 2003]\n",
    "subset2 = df_cars_per_100_vs_unemployment[df_cars_per_100_vs_unemployment[\"Rok\"] == 2022]\n",
    "\n",
    "\n",
    "plt.figure(figsize = (11, 6))\n",
    "\n",
    "plt.scatter(x = subset1[\"Nezamestnanosť\"],\n",
    "            y = subset1[\"Autá / 100 obyvateľov\"],\n",
    "            c = [\"#a6cee3\"],\n",
    "            edgecolors = \"black\",\n",
    "            linewidths = 0.5,\n",
    "            s = 80)\n",
    "plt.scatter(x = subset2[\"Nezamestnanosť\"],\n",
    "            y = subset2[\"Autá / 100 obyvateľov\"],\n",
    "            c = [\"#1f78b4\"],\n",
    "            edgecolors = \"black\",\n",
    "            linewidths = 0.5,\n",
    "            s = 80)\n",
    "\n",
    "\n",
    "# Trendline 1\n",
    "coefficients1 = np.polyfit(subset1[\"Nezamestnanosť\"],\n",
    "                           subset1[\"Autá / 100 obyvateľov\"],\n",
    "                           deg = 1)\n",
    "trendline1 = np.poly1d(coefficients1)\n",
    "x1_fit = np.linspace(subset1[\"Nezamestnanosť\"].min(),\n",
    "                     subset1[\"Nezamestnanosť\"].max(),\n",
    "                     100)\n",
    "y1_fit = trendline1(x1_fit)\n",
    "plt.plot(x1_fit, y1_fit, color = \"#a6cee3\", label = \"Trend line\")\n",
    "\n",
    "# Trendline 2\n",
    "coefficients2 = np.polyfit(subset2[\"Nezamestnanosť\"],\n",
    "                           subset2[\"Autá / 100 obyvateľov\"],\n",
    "                           deg = 1)\n",
    "trendline2 = np.poly1d(coefficients2)\n",
    "x2_fit = np.linspace(subset1[\"Nezamestnanosť\"].min(),\n",
    "                     subset1[\"Nezamestnanosť\"].max(),\n",
    "                     100)\n",
    "y2_fit = trendline2(x2_fit)\n",
    "plt.plot(x2_fit, y2_fit, color = \"#1f78b4\", label = \"Trend line\")\n",
    "\n",
    "\n",
    "plt.xlabel(\"Unemployment rate (percentage)\",\n",
    "           weight = \"bold\",\n",
    "           fontsize = 14)\n",
    "plt.ylabel(\"Passenger cars per 100 inhabitants\",\n",
    "           weight = \"bold\",\n",
    "           fontsize = 14)\n",
    "\n",
    "plt.title(\"Passenger Cars per 100 Inhabitants vs District's Unemployment Rate\",\n",
    "          fontsize = 18,\n",
    "          weight = \"bold\")\n",
    "\n",
    "plt.legend([\"2003\", \"2022\"],\n",
    "           title = \"Year\",\n",
    "           fontsize = 14,\n",
    "           title_fontsize = 14)\n",
    "\n",
    "plt.figtext(0.5, -0.01, \"Original data source: Ministry of Interior of the Slovak Republic, Statistical Office of the Slovak Republic \",\n",
    "            ha = \"center\",\n",
    "            fontsize = 9,\n",
    "            color = \"black\")\n",
    "\n",
    "plt.tight_layout()\n",
    "plt.savefig(\"Visualizations/Cars per 100 inhabitants vs Unemployment Rate.png\",\n",
    "            bbox_inches = \"tight\",\n",
    "            pad_inches = 0.1)\n",
    "plt.show()"
   ]
  },
  {
   "cell_type": "code",
   "execution_count": null,
   "id": "2a82a68b-28f5-4a2e-8d3a-de8a77277d85",
   "metadata": {},
   "outputs": [],
   "source": [
    "print(sns.color_palette(\"Paired\").as_hex())"
   ]
  },
  {
   "cell_type": "markdown",
   "id": "70c51a4f-9556-45d8-8b69-cf0731a151b4",
   "metadata": {},
   "source": [
    "## **[03.3] Number of Passenger Cars vs. Average Household Size by Region** "
   ]
  },
  {
   "cell_type": "code",
   "execution_count": null,
   "id": "65b561a9-0794-42e8-a0f7-973ea8eb23fa",
   "metadata": {},
   "outputs": [],
   "source": [
    "df_household_data = pd.read_excel(\"Data Files/Households and People in Households by Region 2010-2024.xlsx\")\n",
    "df_household_data\n",
    "\n",
    "# First we need to modify this dataset in a way that will be useful for us.\n",
    "# What we actually need is the average household size for every region over the given time period."
   ]
  },
  {
   "cell_type": "code",
   "execution_count": null,
   "id": "abe35744-99f6-4ef0-8bde-c6615dc01a72",
   "metadata": {},
   "outputs": [],
   "source": [
    "df_avg_household_size_by_region = df_household_data[(df_household_data[\"Územie\"].isin(['Bratislavský kraj', \n",
    "                                                                                       'Trnavský kraj', \n",
    "                                                                                       'Trenčiansky kraj', \n",
    "                                                                                       'Nitriansky kraj', \n",
    "                                                                                       'Žilinský kraj', \n",
    "                                                                                       'Banskobystrický kraj',\n",
    "                                                                                       'Prešovský kraj',\n",
    "                                                                                       'Košický kraj'])) & \\\n",
    "                                                    (df_household_data[\"Typ výpočtu\"] == \"Priemerný počet\") & \\\n",
    "                                                    (df_household_data[\"Kategória\"] == \"Osoby\")]\n",
    "\n",
    "df_avg_household_size_by_region = df_avg_household_size_by_region.drop(columns = [\"Typ výpočtu\", \"Kategória\"])\n",
    "\n",
    "df_avg_household_size_by_region = df_avg_household_size_by_region.rename(columns = {\"Územie\": \"Region\"})\n",
    "\n",
    "df_avg_household_size_by_region = df_avg_household_size_by_region.replace({\"Bratislavský kraj\": \"Bratislava Region\",\n",
    "                                                                           \"Trnavský kraj\": \"Trnava Region\",\n",
    "                                                                           \"Trenčiansky kraj\": \"Trenčín Region\",\n",
    "                                                                           \"Nitriansky kraj\": \"Nitra Region\",\n",
    "                                                                           \"Žilinský kraj\": \"Žilina Region\",\n",
    "                                                                           \"Banskobystrický kraj\": \"Banská Bystrica Region\",\n",
    "                                                                           \"Prešovský kraj\": \"Prešov Region\",\n",
    "                                                                           \"Košický kraj\": \"Košice Region\"})\n",
    "\n",
    "df_avg_household_size_by_region = df_avg_household_size_by_region.sort_values(by = \"Region\")\n",
    "\n",
    "df_avg_household_size_by_region = df_avg_household_size_by_region.set_index(\"Region\", drop = True)\n",
    "\n",
    "years7 = list(range(2010, 2025, 1))\n",
    "\n",
    "df_avg_household_size_by_region = df_avg_household_size_by_region[years7]\n",
    "\n",
    "df_avg_household_size_by_region = df_avg_household_size_by_region.reset_index()\n",
    "\n",
    "df_avg_household_size_by_region\n",
    "\n",
    "# Cleaned data frame displaying the average household size for every region over the time period of 2010-2024"
   ]
  },
  {
   "cell_type": "code",
   "execution_count": null,
   "id": "bd1f92ed-ca35-4fdf-af0b-88ad707550af",
   "metadata": {},
   "outputs": [],
   "source": [
    "df_avg_household_size_by_region_long = df_avg_household_size_by_region.melt(id_vars = \"Region\",\n",
    "                                                                            var_name = \"Year\",\n",
    "                                                                            value_name = \"Average household size\")\n",
    "df_avg_household_size_by_region_long\n",
    "\n",
    "# I changed the language to English and made a long format dataframe"
   ]
  },
  {
   "cell_type": "code",
   "execution_count": null,
   "id": "cf894b4e-2e75-42d5-a679-b0fd6d64e253",
   "metadata": {},
   "outputs": [],
   "source": [
    "df_vehicles_per_100_by_region_long_eng = df_vehicles_per_100_by_region_long.rename(columns = {\"Kraj\": \"Region\",\n",
    "                                                                                              \"Rok\": \"Year\",\n",
    "                                                                                              \"Autá / 100 obyvateľov\": \"Cars per 100 inhabitants\"})\n",
    "\n",
    "df_vehicles_per_100_by_region_long_eng[\"Region\"] = df_vehicles_per_100_by_region_long_eng[\"Region\"].replace({\"Bratislavský\": \"Bratislava Region\",\n",
    "                                                                                                             \"Trnavský\": \"Trnava Region\",\n",
    "                                                                                                             \"Trenčiansky\": \"Trenčín Region\",\n",
    "                                                                                                             \"Nitriansky\": \"Nitra Region\",\n",
    "                                                                                                             \"Žilinský\": \"Žilina Region\",\n",
    "                                                                                                             \"Banskobystrický\": \"Banská Bystrica Region\",\n",
    "                                                                                                             \"Prešovský\": \"Prešov Region\",\n",
    "                                                                                                             \"Košický\": \"Košice Region\"})\n",
    "\n",
    "df_vehicles_per_100_by_region_long_eng\n",
    "\n",
    "# just adjusted the language since the final product is going to be in English"
   ]
  },
  {
   "cell_type": "code",
   "execution_count": null,
   "id": "dbdf2785-5693-4419-9677-920445389f63",
   "metadata": {},
   "outputs": [],
   "source": [
    "df_cars_per_100_vs_household_size = pd.merge(df_avg_household_size_by_region_long, df_vehicles_per_100_by_region_long_eng, on = [\"Region\", \"Year\"])\n",
    "df_cars_per_100_vs_household_size\n",
    "\n",
    "# This is the dataframe for vizualization"
   ]
  },
  {
   "cell_type": "code",
   "execution_count": null,
   "id": "dc4c9c6e-6ffe-4eab-aa6b-a0a511e6a29d",
   "metadata": {},
   "outputs": [],
   "source": [
    "import numpy as np\n",
    "\n",
    "sns.set_style(\"whitegrid\")\n",
    "\n",
    "subset_2010 = df_cars_per_100_vs_household_size[df_cars_per_100_vs_household_size[\"Year\"] == 2010]\n",
    "subset_2024 = df_cars_per_100_vs_household_size[df_cars_per_100_vs_household_size[\"Year\"] == 2024]\n",
    "\n",
    "\n",
    "plt.figure(figsize = (11, 6))\n",
    "\n",
    "plt.title(\"Passenger Cars per 100 Inhabitants vs Region's Average Household Size\",\n",
    "          fontsize = 18,\n",
    "          weight = \"bold\")\n",
    "\n",
    "plt.scatter(subset_2010[\"Average household size\"],\n",
    "            subset_2010[\"Cars per 100 inhabitants\"],\n",
    "            s = 120,\n",
    "            c = \"#b2df8a\",\n",
    "            edgecolors = \"black\",\n",
    "            linewidths = 0.5)\n",
    "plt.scatter(subset_2024[\"Average household size\"],\n",
    "            subset_2024[\"Cars per 100 inhabitants\"],\n",
    "            s = 120,\n",
    "            c = \"#33a02c\",\n",
    "            edgecolors = \"black\",\n",
    "            linewidths = 0.5)\n",
    "\n",
    "region_labels = [\"Banská Bystrica\", \"Bratislava\", \"Košice\", \"Nitra\", \"Prešov\", \"Trenčín\", \"Trnava\", \"Žilina\"]\n",
    "\n",
    "# Markers labeled as regions' names\n",
    "for xi, yi, label in zip(subset_2010[\"Average household size\"],\n",
    "                         subset_2010[\"Cars per 100 inhabitants\"],\n",
    "                         region_labels):\n",
    "    plt.text(xi + 0.02, yi + 0.02, label, fontsize = 10)\n",
    "\n",
    "for xi, yi, label in zip(subset_2024[\"Average household size\"],\n",
    "                         subset_2024[\"Cars per 100 inhabitants\"],\n",
    "                         region_labels):\n",
    "    plt.text(xi + 0.02, yi + 0.02, label, fontsize = 10)\n",
    "\n",
    "\n",
    "# Trendline 1\n",
    "coefficients1 = np.polyfit(subset_2010[\"Average household size\"],\n",
    "                           subset_2010[\"Cars per 100 inhabitants\"],\n",
    "                           deg = 2)\n",
    "trendline1 = np.poly1d(coefficients1)\n",
    "x1_fit = np.linspace(subset_2010[\"Average household size\"].min(),\n",
    "                     subset_2010[\"Average household size\"].max(),\n",
    "                     100)\n",
    "y1_fit = trendline1(x1_fit)\n",
    "plt.plot(x1_fit, y1_fit, color = \"#b2df8a\", label = \"Trend line\")\n",
    "\n",
    "# Trendline 2\n",
    "coefficients2 = np.polyfit(subset_2024[\"Average household size\"],\n",
    "                           subset_2024[\"Cars per 100 inhabitants\"],\n",
    "                           deg = 2)\n",
    "trendline2 = np.poly1d(coefficients2)\n",
    "x2_fit = np.linspace(subset_2024[\"Average household size\"].min(),\n",
    "                     subset_2024[\"Average household size\"].max(),\n",
    "                     100)\n",
    "y2_fit = trendline2(x2_fit)\n",
    "plt.plot(x2_fit, y2_fit, color = \"#33a02c\", label = \"Trend line\")\n",
    "\n",
    "\n",
    "\n",
    "plt.xlabel(\"Average household size\",\n",
    "           weight = \"bold\",\n",
    "           fontsize = 14)\n",
    "plt.ylabel(\"Passenger cars per 100 inhabitants\",\n",
    "           weight = \"bold\",\n",
    "           fontsize = 14)\n",
    "\n",
    "plt.legend([\"2010\", \"2024\"],\n",
    "           title = \"Year\",\n",
    "           fontsize = 14,\n",
    "           title_fontsize = 14)\n",
    "\n",
    "plt.figtext(0.5, -0.01, \"Original data source: Ministry of Interior of the Slovak Republic, Statistical Office of the Slovak Republic \",\n",
    "            ha = \"center\",\n",
    "            fontsize = 9,\n",
    "            color = \"black\")\n",
    "\n",
    "plt.tight_layout()\n",
    "plt.savefig(\"Visualizations/Cars per 100 inhabitants vs Household Size.png\",\n",
    "            bbox_inches = \"tight\",\n",
    "            pad_inches = 0.1)\n",
    "plt.show()"
   ]
  },
  {
   "cell_type": "code",
   "execution_count": null,
   "id": "2ec21ae2-ff36-4643-922a-0f23aa47f32d",
   "metadata": {},
   "outputs": [],
   "source": [
    "print(sns.color_palette(\"Paired\").as_hex())"
   ]
  },
  {
   "cell_type": "markdown",
   "id": "1f2164ae-87db-41f5-bd8e-eac23669c523",
   "metadata": {},
   "source": [
    "## **[03.4] Number of Passenger Cars vs Population Living in Urban Areas by District** "
   ]
  },
  {
   "cell_type": "code",
   "execution_count": null,
   "id": "a636d76f-4982-4111-8c2f-f5462c117b24",
   "metadata": {},
   "outputs": [],
   "source": [
    "# First of all, we need to come up with a way of defining urban areas.\n",
    "# Different countries/institutions define urban areas differently.\n",
    "# Hence we can come up with our own way of defining it which fits our goals and needs\n",
    "# Among others, urban areas are defined by (1) density of population, (2) total population and (3) infrastructure\n",
    "# (1) Density of population is available for all municipalities in Slovakia\n",
    "# (2) The same applies for total population\n",
    "# (3) Infrastructure is tricky to measure; however, we can use the city status as a proxy\n",
    "# Because the city status is usually given to municipalities with particular level of infrastructure\n",
    "\n",
    "# TO SUM UP\n",
    "# I will regard a municipality's area to be urban if it satisfies the following conditions:\n",
    "# (1) It has to have population density of at least 150 people per km2\n",
    "# (2) Its total population has to be at least 5000 people\n",
    "# (3) It has to have the city status\n",
    "\n",
    "# Disclaimer: The same municipality might be evaluated differently over different years.\n",
    "\n",
    "# The final dataframe will contain the proportion of population living in urban areas for every district in Slovakia over the years."
   ]
  },
  {
   "cell_type": "markdown",
   "id": "97de1f42-e9fc-49b1-8098-28fbadda36ba",
   "metadata": {},
   "source": [
    "#### **[03.4.1] Population Density Condition**"
   ]
  },
  {
   "cell_type": "code",
   "execution_count": null,
   "id": "8ef39580-6427-4819-a1dd-5022ce764893",
   "metadata": {},
   "outputs": [],
   "source": [
    "df_population_density = pd.read_excel(\"Data Files/Population Density (Municipalities) 2003-2024.xlsx\")\n",
    "\n",
    "years8 = list(range(2003, 2025, 1))\n",
    "\n",
    "for year in years8:\n",
    "    for cell in df_population_density[year]:\n",
    "        if cell >= 150:\n",
    "            df_population_density[year] = df_population_density[year].replace(cell, \"urban\")\n",
    "        else:\n",
    "            df_population_density[year] = df_population_density[year].replace(cell, \"rural\")\n",
    "\n",
    "df_population_density"
   ]
  },
  {
   "cell_type": "markdown",
   "id": "52122e4e-3382-40ae-9659-785de68f6895",
   "metadata": {},
   "source": [
    "#### **[03.4.2] Population Condition**"
   ]
  },
  {
   "cell_type": "code",
   "execution_count": null,
   "id": "10e2d74f-2aab-4b05-bef0-2d30ec068bdc",
   "metadata": {},
   "outputs": [],
   "source": [
    "df_population = pd.read_excel(\"Data Files/Population Size by Municipality 2003-2024.xlsx\")\n",
    "\n",
    "years8 = list(range(2003, 2025, 1))\n",
    "\n",
    "for year in years8:\n",
    "    for cell in df_population[year]:\n",
    "        if cell >= 5000:\n",
    "            df_population[year] = df_population[year].replace(cell, \"urban\")\n",
    "        else:\n",
    "            df_population[year] = df_population[year].replace(cell, \"rural\")\n",
    "\n",
    "df_population"
   ]
  },
  {
   "cell_type": "markdown",
   "id": "b68e5333-51aa-4db2-a98c-84cedeec6505",
   "metadata": {},
   "source": [
    "#### **[03.4.3] City Status Condition**"
   ]
  },
  {
   "cell_type": "code",
   "execution_count": null,
   "id": "e53ef61d-b768-4089-96af-391bfcbec9c4",
   "metadata": {},
   "outputs": [],
   "source": [
    "df_list_of_cities = pd.read_excel(\"Data Files/City Status.xlsx\")\n",
    "df_list_of_cities\n",
    "\n",
    "# This is a dataset that I prepared earlier on in Microsoft Excel\n",
    "# It is modified version of the list of cities/towns in Slovakia found on Wikipedia (https://sk.wikipedia.org/wiki/Zoznam_miest_na_Slovensku)\n",
    "# The second column denotes the year when a particular municipality received the city status.\n",
    "# For some cities the year was not exact so I just kept the latest possible year based on Wikipedia's data.\n",
    "# For some cities the year was not available at all, so I just substituted year 0 instead.\n",
    "# We know for sure that these cities didn't receive their city status in the last 22 years, which is what matters in this particular situation.\n",
    "# The purpose of having the year is to destinguish between years when a particular municipality was a village and when it was a city\n",
    "# As this is going affect our final data."
   ]
  },
  {
   "cell_type": "code",
   "execution_count": null,
   "id": "567aff79-fc89-496b-b2db-c38d05b939b9",
   "metadata": {},
   "outputs": [],
   "source": [
    "years8 = list(range(2003, 2025, 1))\n",
    "\n",
    "df_city_status = df_population.copy()\n",
    "\n",
    "is_urban = df_city_status[\"Obec\"].isin(df_list_of_cities[\"Mesto\"])\n",
    "\n",
    "for year in years8:\n",
    "    df_city_status.loc[is_urban, year] = \"urban\"\n",
    "    df_city_status.loc[~is_urban, year] = \"rural\"\n",
    "\n",
    "df_city_status"
   ]
  },
  {
   "cell_type": "markdown",
   "id": "3ff944aa-84e5-47b0-9f53-0aa3c56a524c",
   "metadata": {},
   "source": [
    "#### **[03.4.4] Conditions Combined – Final Urban Areas Data**"
   ]
  },
  {
   "cell_type": "code",
   "execution_count": null,
   "id": "79941744-db1c-44f7-8de0-b3afd4e194a2",
   "metadata": {},
   "outputs": [],
   "source": [
    "list(df_population_density[\"Obec\"]) == list(df_population[\"Obec\"])"
   ]
  },
  {
   "cell_type": "code",
   "execution_count": null,
   "id": "5c594305-2339-4814-b612-2c695e8b21c1",
   "metadata": {},
   "outputs": [],
   "source": [
    "list(df_population[\"Obec\"]) == list(df_city_status[\"Obec\"])\n",
    "# The list of municipalities in all three dataframes is identical, which is good."
   ]
  },
  {
   "cell_type": "code",
   "execution_count": null,
   "id": "028b14c3-5866-4dac-9cb4-d685492c1766",
   "metadata": {},
   "outputs": [],
   "source": [
    "years8 = list(range(2003, 2025, 1))\n",
    "\n",
    "df_urban_status = df_city_status.copy()\n",
    "municipalities = list(df_population_density[\"Obec\"])\n",
    "\n",
    "is_urban_density = df_population_density[years8] == \"urban\"\n",
    "is_urban_population = df_population[years8] == \"urban\"\n",
    "is_urban_city_status = df_city_status[years8] == \"urban\"\n",
    "\n",
    "all_urban = is_urban_density & is_urban_population & is_urban_city_status\n",
    "\n",
    "df_urban_status[years8] = all_urban.where(all_urban, False).replace({True: \"URBAN\", False: \"RURAL\"})\n",
    "\n",
    "df_urban_status\n",
    "\n",
    "# This is the final dataframe containing information on whether a particular municipality is considered an urban or rural area."
   ]
  },
  {
   "cell_type": "code",
   "execution_count": null,
   "id": "aef85f19-2464-4fce-bc20-8fe4b7a25d26",
   "metadata": {},
   "outputs": [],
   "source": [
    "columns = ['Okres', 'Obec', 2024, 2023, 2022, 2021, 2020, 2019, 2018, 2017, 2016, 2015, 2014, 2013, 2012, 2011, 2010, 2009, 2008, 2007, 2006, 2005, 2004, 2003]\n",
    "df_population_size_municipalities = df_population_size[columns]\n",
    "df_population_size_municipalities"
   ]
  },
  {
   "cell_type": "code",
   "execution_count": null,
   "id": "9c37fe5c-34fe-415b-a359-4e03dd7733dd",
   "metadata": {},
   "outputs": [],
   "source": [
    "df_urban_population_size = df_urban_status.copy()\n",
    "\n",
    "years9 = [2024, 2023, 2022, 2021, 2020, 2019, 2018, 2017, 2016, 2015, 2014, 2013, 2012, 2011, 2010, 2009, 2008, 2007, 2006, 2005, 2004, 2003]\n",
    "\n",
    "for year in years9:\n",
    "    df_urban_population_size[year] = df_population_size_municipalities[year].where(df_urban_status[year] == \"URBAN\", other = 0)\n",
    "\n",
    "df_urban_population_size = df_urban_population_size.groupby(\"Okres\").sum()\n",
    "df_urban_population_size = df_urban_population_size.drop(columns = \"Obec\")\n",
    "df_urban_population_size = df_urban_population_size.reset_index()\n",
    "df_urban_population_size[\"Okres\"] = df_urban_population_size[\"Okres\"].str.replace(\"^Okres \", \"\", regex = True)\n",
    "df_urban_population_size\n",
    "\n",
    "# We still need to merge Bratislava and Košice districts into one"
   ]
  },
  {
   "cell_type": "code",
   "execution_count": null,
   "id": "3975ebec-503d-4d3d-a625-99c80701a1a7",
   "metadata": {},
   "outputs": [],
   "source": [
    "bratislava_districts_short = [\"Bratislava I\", \"Bratislava II\", \"Bratislava III\", \"Bratislava IV\", \"Bratislava V\"]\n",
    "\n",
    "df_bratislava_districts_urban_population = df_urban_population_size[df_urban_population_size[\"Okres\"].isin(bratislava_districts_short)][years9].sum()\n",
    "df_bratislava_districts_urban_population = pd.DataFrame([[\"Bratislava\"] + df_bratislava_districts_urban_population.tolist()], columns = df_urban_population_size.columns)\n",
    "df_bratislava_districts_urban_population"
   ]
  },
  {
   "cell_type": "code",
   "execution_count": null,
   "id": "2a917a93-b63b-40b0-9717-b054486126fa",
   "metadata": {},
   "outputs": [],
   "source": [
    "košice_districts_short = [\"Košice I\", \"Košice II\", \"Košice III\", \"Košice IV\"]\n",
    "\n",
    "df_košice_districts_urban_population = df_urban_population_size[df_urban_population_size[\"Okres\"].isin(košice_districts_short)][years9].sum()\n",
    "df_košice_districts_urban_population = pd.DataFrame([[\"Košice\"] + df_košice_districts_urban_population.tolist()], columns = df_urban_population_size.columns)\n",
    "df_košice_districts_urban_population"
   ]
  },
  {
   "cell_type": "code",
   "execution_count": null,
   "id": "cf21ee8b-4489-483c-972d-dbaf323f697c",
   "metadata": {},
   "outputs": [],
   "source": [
    "df_urban_population_size = pd.concat([df_urban_population_size, df_bratislava_districts_urban_population, df_košice_districts_urban_population],\n",
    "                                     ignore_index = True)\n",
    "df_urban_population_size"
   ]
  },
  {
   "cell_type": "code",
   "execution_count": null,
   "id": "789da733-070b-454b-b448-4e5743301602",
   "metadata": {},
   "outputs": [],
   "source": [
    "df_urban_population_size = df_urban_population_size[~df_urban_population_size[\"Okres\"].isin(bratislava_districts_short)]\n",
    "df_urban_population_size = df_urban_population_size[~df_urban_population_size[\"Okres\"].isin(košice_districts_short)]\n",
    "df_urban_population_size = df_urban_population_size.sort_values(by = \"Okres\").reset_index()\n",
    "df_urban_population_size = df_urban_population_size.drop(columns = \"index\")\n",
    "df_urban_population_size = df_urban_population_size.set_index(\"Okres\")\n",
    "df_urban_population_size\n",
    "\n",
    "# This is the updated urba population size of each district with Bratislava and Košice being single districts"
   ]
  },
  {
   "cell_type": "code",
   "execution_count": null,
   "id": "f8e3008a-0088-4b42-ac70-566e812dbf4a",
   "metadata": {},
   "outputs": [],
   "source": [
    "df_population_size_districts = df_population_size_municipalities.groupby(\"Okres\").sum()\n",
    "df_population_size_districts = df_population_size_districts.drop(columns = \"Obec\")\n",
    "df_population_size_districts = df_population_size_districts.reset_index()\n",
    "df_population_size_districts\n",
    "\n",
    "# Note: This is different from df_population_districts\n",
    "# For some reason the data from the Statistical Office is not 100% consistent\n",
    "# Added population sizes of municipalities in a particular district are not equal to the data presented in the dataset of districts' population sizes.\n",
    "# The discrepancy is minor, but I had to add the Bratislava and Košice districts' population sizes again for this reason."
   ]
  },
  {
   "cell_type": "code",
   "execution_count": null,
   "id": "ea59a1cc-110c-4a3f-baec-0cb4e5e4148b",
   "metadata": {},
   "outputs": [],
   "source": [
    "bratislava_districts_short = [\"Bratislava I\", \"Bratislava II\", \"Bratislava III\", \"Bratislava IV\", \"Bratislava V\"]\n",
    "\n",
    "df_bratislava_districts_population_size = df_population_size_districts[df_population_size_districts[\"Okres\"].isin(bratislava_districts_short)][years9].sum()\n",
    "df_bratislava_districts_population_size = pd.DataFrame([[\"Bratislava\"] + df_bratislava_districts_population_size.tolist()], columns = df_population_size_districts.columns)\n",
    "df_bratislava_districts_population_size"
   ]
  },
  {
   "cell_type": "code",
   "execution_count": null,
   "id": "c3e9717a-b908-419b-90f6-2a8679d9e9cd",
   "metadata": {},
   "outputs": [],
   "source": [
    "košice_districts_short = [\"Košice I\", \"Košice II\", \"Košice III\", \"Košice IV\"]\n",
    "\n",
    "df_košice_districts_population_size = df_population_size_districts[df_population_size_districts[\"Okres\"].isin(košice_districts_short)][years9].sum()\n",
    "df_košice_districts_population_size = pd.DataFrame([[\"Košice\"] + df_košice_districts_population_size.tolist()], columns = df_population_size_districts.columns)\n",
    "df_košice_districts_population_size"
   ]
  },
  {
   "cell_type": "code",
   "execution_count": null,
   "id": "43d9c74f-6b80-4866-ab18-09acd4cfa0be",
   "metadata": {},
   "outputs": [],
   "source": [
    "df_population_size_districts = pd.concat([df_population_size_districts, df_bratislava_districts_population_size, df_košice_districts_population_size],\n",
    "                                     ignore_index = True)\n",
    "df_population_size_districts"
   ]
  },
  {
   "cell_type": "code",
   "execution_count": null,
   "id": "41b49a91-2273-4d5f-986a-accd34360799",
   "metadata": {},
   "outputs": [],
   "source": [
    "df_population_size_districts = df_population_size_districts[~df_population_size_districts[\"Okres\"].isin(bratislava_districts_short)]\n",
    "df_population_size_districts = df_population_size_districts[~df_population_size_districts[\"Okres\"].isin(košice_districts_short)]\n",
    "df_population_size_districts = df_population_size_districts.sort_values(by = \"Okres\").reset_index()\n",
    "df_population_size_districts = df_population_size_districts.drop(columns = \"index\")\n",
    "df_population_size_districts = df_population_size_districts.set_index(\"Okres\")\n",
    "df_population_size_districts\n",
    "\n",
    "# This is the updated population size for each district with Bratislava and Košice being single districts"
   ]
  },
  {
   "cell_type": "code",
   "execution_count": null,
   "id": "a2caf3d2-c494-40f2-8841-238712ad18e1",
   "metadata": {},
   "outputs": [],
   "source": [
    "df_percentage_of_urban_population = df_urban_population_size / df_population_size_districts * 100\n",
    "df_percentage_of_urban_population = df_percentage_of_urban_population.reset_index()\n",
    "df_percentage_of_urban_population\n",
    "\n",
    "# This is the final dateframe showing the percentage of population living in urban areas (as per our definition of urban areas) by district"
   ]
  },
  {
   "cell_type": "code",
   "execution_count": null,
   "id": "e0bac1ec-a7b0-4752-8400-91413700a919",
   "metadata": {},
   "outputs": [],
   "source": [
    "df_percentage_of_urban_population_long = df_percentage_of_urban_population.melt(id_vars = \"Okres\",\n",
    "                                                                                var_name = \"Year\",\n",
    "                                                                                value_name = \"Percentage of urban population\")\n",
    "df_percentage_of_urban_population_long = df_percentage_of_urban_population_long.rename(columns = {\"Okres\":\"District\"})\n",
    "df_percentage_of_urban_population_long"
   ]
  },
  {
   "cell_type": "code",
   "execution_count": null,
   "id": "46d98f4b-e408-4634-8a74-64761a8ca55a",
   "metadata": {},
   "outputs": [],
   "source": [
    "df_cars_per_100_by_district_long = df_cars_per_100_by_district_long.rename(columns = {\"Okres\":\"District\",\n",
    "                                                                                      \"Rok\":\"Year\",\n",
    "                                                                                      \"Počet\":\"Cars per 100 inhabitants\"})\n",
    "df_cars_per_100_by_district_long"
   ]
  },
  {
   "cell_type": "code",
   "execution_count": null,
   "id": "a405b5a3-4160-46f7-a721-dfff9ab974ea",
   "metadata": {},
   "outputs": [],
   "source": [
    "df_districts_abbreviations = pd.read_excel(\"Data Files/License Plates Abbreviations - Districts.xlsx\")\n",
    "df_districts_abbreviations"
   ]
  },
  {
   "cell_type": "code",
   "execution_count": null,
   "id": "a9ea3170-e005-4ff9-9c14-eeaa1f93c19e",
   "metadata": {},
   "outputs": [],
   "source": [
    "df_urban_population_vs_cars_per_100 = pd.merge(df_percentage_of_urban_population_long, df_cars_per_100_by_district_long, on = [\"District\", \"Year\"])\n",
    "df_urban_population_vs_cars_per_100 = pd.merge(df_urban_population_vs_cars_per_100, df_districts_abbreviations, on = \"District\")\n",
    "df_urban_population_vs_cars_per_100"
   ]
  },
  {
   "cell_type": "markdown",
   "id": "9f5181ca-d7a0-4228-909f-b67574370d96",
   "metadata": {},
   "source": [
    "#### **[03.4.4] Visualization of Data**"
   ]
  },
  {
   "cell_type": "code",
   "execution_count": null,
   "id": "98f1c560-3795-4db5-bafa-9af2b5834260",
   "metadata": {},
   "outputs": [],
   "source": [
    "sns.set_style(\"whitegrid\")\n",
    "\n",
    "subset_2003 = df_urban_population_vs_cars_per_100[df_urban_population_vs_cars_per_100[\"Year\"] == 2003]\n",
    "subset_2024 = df_urban_population_vs_cars_per_100[df_urban_population_vs_cars_per_100[\"Year\"] == 2024]\n",
    "\n",
    "plt.figure(figsize = (11, 6))\n",
    "\n",
    "plt.title(\"Passenger Cars per 100 Inhabitants vs District's Urban Population\",\n",
    "          fontsize = 18,\n",
    "          weight = \"bold\",\n",
    "          y = 1.05)\n",
    "\n",
    "plt.figtext(0.5, 0.9, \"Note: Urban areas have been defined as those that: (1) have a population density of at least 150 people per km2; (2) have total population of at least 5,000; (3) have a city status.\",  \n",
    "            ha = \"center\",\n",
    "            fontsize = 9,\n",
    "            color = \"black\")\n",
    "\n",
    "plt.scatter(subset_2003[\"Percentage of urban population\"],\n",
    "            subset_2003[\"Cars per 100 inhabitants\"],\n",
    "            s = 80,\n",
    "            c = \"#fdbf6f\",\n",
    "            edgecolors = \"black\",\n",
    "            linewidths = 0.5)\n",
    "plt.scatter(subset_2024[\"Percentage of urban population\"],\n",
    "            subset_2024[\"Cars per 100 inhabitants\"],\n",
    "            s = 80,\n",
    "            c = \"#ff7f00\",\n",
    "            edgecolors = \"black\",\n",
    "            linewidths = 0.5)\n",
    "\n",
    "plt.xlabel(\"Percentage of district's population living in urban areas\",\n",
    "           weight = \"bold\",\n",
    "           fontsize = 14)\n",
    "plt.ylabel(\"Passenger cars per 100 inhabitants\",\n",
    "           weight = \"bold\",\n",
    "           fontsize = 14)\n",
    "\n",
    "plt.legend([\"2003\", \"2024\"],\n",
    "           title = \"Year\",\n",
    "           fontsize = 14,\n",
    "           title_fontsize = 14)\n",
    "\n",
    "# Trendline 1\n",
    "coefficients1 = np.polyfit(subset_2003[\"Percentage of urban population\"],\n",
    "                           subset_2003[\"Cars per 100 inhabitants\"],\n",
    "                           deg = 1)\n",
    "trendline1 = np.poly1d(coefficients1)\n",
    "x1_fit = np.linspace(subset_2003[\"Percentage of urban population\"].min(),\n",
    "                     subset_2003[\"Percentage of urban population\"].max(),\n",
    "                     100)\n",
    "y1_fit = trendline1(x1_fit)\n",
    "plt.plot(x1_fit, y1_fit, color = \"#fdbf6f\", label = \"Trend line\")\n",
    "\n",
    "# Trendline 2\n",
    "coefficients2 = np.polyfit(subset_2024[\"Percentage of urban population\"],\n",
    "                           subset_2024[\"Cars per 100 inhabitants\"],\n",
    "                           deg = 1)\n",
    "trendline2 = np.poly1d(coefficients2)\n",
    "x2_fit = np.linspace(subset_2024[\"Percentage of urban population\"].min(),\n",
    "                     subset_2024[\"Percentage of urban population\"].max(),\n",
    "                     100)\n",
    "y2_fit = trendline2(x2_fit)\n",
    "plt.plot(x2_fit, y2_fit, color = \"#ff7f00\", label = \"Trend line\")\n",
    "\n",
    "plt.figtext(0.5, -0.01, \"Original data source: Ministry of Interior of the Slovak Republic, Statistical Office of the Slovak Republic, Wikipedia\",\n",
    "            ha = \"center\",\n",
    "            fontsize = 9,\n",
    "            color = \"black\")\n",
    "\n",
    "plt.xticks(list(range(0,101,10)))\n",
    "\n",
    "plt.tight_layout()\n",
    "plt.savefig(\"Visualizations/Cars per 100 inhabitants vs Urban population.png\",\n",
    "            bbox_inches = \"tight\",\n",
    "            pad_inches = 0.1)\n",
    "\n",
    "plt.show()"
   ]
  }
 ],
 "metadata": {
  "kernelspec": {
   "display_name": "Python 3 (ipykernel)",
   "language": "python",
   "name": "python3"
  },
  "language_info": {
   "codemirror_mode": {
    "name": "ipython",
    "version": 3
   },
   "file_extension": ".py",
   "mimetype": "text/x-python",
   "name": "python",
   "nbconvert_exporter": "python",
   "pygments_lexer": "ipython3",
   "version": "3.13.5"
  }
 },
 "nbformat": 4,
 "nbformat_minor": 5
}
